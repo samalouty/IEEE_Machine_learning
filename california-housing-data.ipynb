{
 "cells": [
  {
   "cell_type": "markdown",
   "id": "0a5c26db",
   "metadata": {
    "papermill": {
     "duration": 0.010613,
     "end_time": "2023-12-10T15:32:05.082381",
     "exception": false,
     "start_time": "2023-12-10T15:32:05.071768",
     "status": "completed"
    },
    "tags": []
   },
   "source": [
    "## The following notebook creates synthetic data from a LLM that was fine-tuned on the California Housing Dataset\n",
    "\n",
    "The output of this notebook can be used to create a Community Competition similar to this [Playground competition](https://www.kaggle.com/competitions/playground-series-s3e1) using refreshed data."
   ]
  },
  {
   "cell_type": "code",
   "execution_count": 1,
   "id": "c79cc9e1",
   "metadata": {
    "_cell_guid": "4158d092-1b66-436d-a31a-381de45bba89",
    "_uuid": "178d0688-eb09-46ed-82d1-aadfcf565038",
    "collapsed": false,
    "execution": {
     "iopub.execute_input": "2023-12-10T15:32:05.104534Z",
     "iopub.status.busy": "2023-12-10T15:32:05.104133Z",
     "iopub.status.idle": "2023-12-10T15:32:05.131602Z",
     "shell.execute_reply": "2023-12-10T15:32:05.129224Z"
    },
    "jupyter": {
     "outputs_hidden": false
    },
    "papermill": {
     "duration": 0.04144,
     "end_time": "2023-12-10T15:32:05.134189",
     "exception": false,
     "start_time": "2023-12-10T15:32:05.092749",
     "status": "completed"
    },
    "tags": []
   },
   "outputs": [
    {
     "name": "stdout",
     "output_type": "stream",
     "text": [
      "/kaggle/input/california-housing-fine-tuned-gpt2-medium/config.json\n",
      "/kaggle/input/california-housing-fine-tuned-gpt2-medium/model.pt\n",
      "/kaggle/input/playground-series-s3e1/sample_submission.csv\n",
      "/kaggle/input/playground-series-s3e1/train.csv\n",
      "/kaggle/input/playground-series-s3e1/test.csv\n"
     ]
    }
   ],
   "source": [
    "import os\n",
    "import pandas as pd\n",
    "from hashlib import md5\n",
    "\n",
    "import warnings\n",
    "warnings.filterwarnings(\"ignore\")\n",
    "\n",
    "for dirname, _, filenames in os.walk('/kaggle/input'):\n",
    "    for filename in filenames:\n",
    "        print(os.path.join(dirname, filename))\n",
    "        \n",
    "model_path = '/kaggle/input/california-housing-fine-tuned-gpt2-medium'"
   ]
  },
  {
   "cell_type": "code",
   "execution_count": 2,
   "id": "0b9713d9",
   "metadata": {
    "execution": {
     "iopub.execute_input": "2023-12-10T15:32:05.155752Z",
     "iopub.status.busy": "2023-12-10T15:32:05.155428Z",
     "iopub.status.idle": "2023-12-10T15:32:25.376791Z",
     "shell.execute_reply": "2023-12-10T15:32:25.375667Z"
    },
    "papermill": {
     "duration": 20.23454,
     "end_time": "2023-12-10T15:32:25.379105",
     "exception": false,
     "start_time": "2023-12-10T15:32:05.144565",
     "status": "completed"
    },
    "tags": []
   },
   "outputs": [],
   "source": [
    "!pip install transformers==4.26.1 -q # avoiding a dependency issue"
   ]
  },
  {
   "cell_type": "code",
   "execution_count": 3,
   "id": "c704bedb",
   "metadata": {
    "execution": {
     "iopub.execute_input": "2023-12-10T15:32:25.398210Z",
     "iopub.status.busy": "2023-12-10T15:32:25.397873Z",
     "iopub.status.idle": "2023-12-10T15:32:38.808505Z",
     "shell.execute_reply": "2023-12-10T15:32:38.807261Z"
    },
    "papermill": {
     "duration": 13.422747,
     "end_time": "2023-12-10T15:32:38.810900",
     "exception": false,
     "start_time": "2023-12-10T15:32:25.388153",
     "status": "completed"
    },
    "tags": []
   },
   "outputs": [],
   "source": [
    "!pip install be-great==0.0.3 -q"
   ]
  },
  {
   "cell_type": "code",
   "execution_count": 4,
   "id": "55b203e4",
   "metadata": {
    "execution": {
     "iopub.execute_input": "2023-12-10T15:32:38.831229Z",
     "iopub.status.busy": "2023-12-10T15:32:38.830498Z",
     "iopub.status.idle": "2023-12-10T15:34:10.741079Z",
     "shell.execute_reply": "2023-12-10T15:34:10.740042Z"
    },
    "papermill": {
     "duration": 91.922946,
     "end_time": "2023-12-10T15:34:10.743363",
     "exception": false,
     "start_time": "2023-12-10T15:32:38.820417",
     "status": "completed"
    },
    "tags": []
   },
   "outputs": [
    {
     "data": {
      "application/vnd.jupyter.widget-view+json": {
       "model_id": "1b0f28bb0d8a4a84a34f1eac56aebe14",
       "version_major": 2,
       "version_minor": 0
      },
      "text/plain": [
       "config.json:   0%|          | 0.00/718 [00:00<?, ?B/s]"
      ]
     },
     "metadata": {},
     "output_type": "display_data"
    },
    {
     "data": {
      "application/vnd.jupyter.widget-view+json": {
       "model_id": "fc891f87d1ad481abfb2ccbf129d344b",
       "version_major": 2,
       "version_minor": 0
      },
      "text/plain": [
       "vocab.json:   0%|          | 0.00/1.04M [00:00<?, ?B/s]"
      ]
     },
     "metadata": {},
     "output_type": "display_data"
    },
    {
     "data": {
      "application/vnd.jupyter.widget-view+json": {
       "model_id": "102a126b16bd412fbbba5a71d8d91132",
       "version_major": 2,
       "version_minor": 0
      },
      "text/plain": [
       "merges.txt:   0%|          | 0.00/456k [00:00<?, ?B/s]"
      ]
     },
     "metadata": {},
     "output_type": "display_data"
    },
    {
     "data": {
      "application/vnd.jupyter.widget-view+json": {
       "model_id": "01445fd545494e10bc4eb3418029753a",
       "version_major": 2,
       "version_minor": 0
      },
      "text/plain": [
       "tokenizer.json:   0%|          | 0.00/1.36M [00:00<?, ?B/s]"
      ]
     },
     "metadata": {},
     "output_type": "display_data"
    },
    {
     "data": {
      "application/vnd.jupyter.widget-view+json": {
       "model_id": "c10f0d009ef340d4a16b773dfcf4ca42",
       "version_major": 2,
       "version_minor": 0
      },
      "text/plain": [
       "model.safetensors:   0%|          | 0.00/1.52G [00:00<?, ?B/s]"
      ]
     },
     "metadata": {},
     "output_type": "display_data"
    },
    {
     "data": {
      "application/vnd.jupyter.widget-view+json": {
       "model_id": "83e1ec47403245a9a9eafeb1cebc1029",
       "version_major": 2,
       "version_minor": 0
      },
      "text/plain": [
       "generation_config.json:   0%|          | 0.00/124 [00:00<?, ?B/s]"
      ]
     },
     "metadata": {},
     "output_type": "display_data"
    },
    {
     "name": "stderr",
     "output_type": "stream",
     "text": [
      "1003it [00:51, 19.34it/s]\n"
     ]
    },
    {
     "data": {
      "text/html": [
       "<div>\n",
       "<style scoped>\n",
       "    .dataframe tbody tr th:only-of-type {\n",
       "        vertical-align: middle;\n",
       "    }\n",
       "\n",
       "    .dataframe tbody tr th {\n",
       "        vertical-align: top;\n",
       "    }\n",
       "\n",
       "    .dataframe thead th {\n",
       "        text-align: right;\n",
       "    }\n",
       "</style>\n",
       "<table border=\"1\" class=\"dataframe\">\n",
       "  <thead>\n",
       "    <tr style=\"text-align: right;\">\n",
       "      <th></th>\n",
       "      <th>Median Income</th>\n",
       "      <th>Age of House</th>\n",
       "      <th>Average Number of Rooms</th>\n",
       "      <th>Average Number of Bedrooms</th>\n",
       "      <th>Population</th>\n",
       "      <th>Average Occupancy</th>\n",
       "      <th>Latitude</th>\n",
       "      <th>Longitude</th>\n",
       "      <th>Median House Value</th>\n",
       "    </tr>\n",
       "    <tr>\n",
       "      <th>id</th>\n",
       "      <th></th>\n",
       "      <th></th>\n",
       "      <th></th>\n",
       "      <th></th>\n",
       "      <th></th>\n",
       "      <th></th>\n",
       "      <th></th>\n",
       "      <th></th>\n",
       "      <th></th>\n",
       "    </tr>\n",
       "  </thead>\n",
       "  <tbody>\n",
       "    <tr>\n",
       "      <th>0</th>\n",
       "      <td>2.4500</td>\n",
       "      <td>25.0</td>\n",
       "      <td>3.273438</td>\n",
       "      <td>1.000000</td>\n",
       "      <td>1207.0</td>\n",
       "      <td>2.846354</td>\n",
       "      <td>33.96</td>\n",
       "      <td>-118.36</td>\n",
       "      <td>1.250</td>\n",
       "    </tr>\n",
       "    <tr>\n",
       "      <th>1</th>\n",
       "      <td>3.4018</td>\n",
       "      <td>29.0</td>\n",
       "      <td>3.980494</td>\n",
       "      <td>1.098793</td>\n",
       "      <td>2352.0</td>\n",
       "      <td>1.773756</td>\n",
       "      <td>34.11</td>\n",
       "      <td>-118.35</td>\n",
       "      <td>3.500</td>\n",
       "    </tr>\n",
       "    <tr>\n",
       "      <th>2</th>\n",
       "      <td>4.2813</td>\n",
       "      <td>17.0</td>\n",
       "      <td>5.427894</td>\n",
       "      <td>0.976281</td>\n",
       "      <td>2672.0</td>\n",
       "      <td>2.455041</td>\n",
       "      <td>33.97</td>\n",
       "      <td>-117.95</td>\n",
       "      <td>1.694</td>\n",
       "    </tr>\n",
       "    <tr>\n",
       "      <th>3</th>\n",
       "      <td>6.0604</td>\n",
       "      <td>21.0</td>\n",
       "      <td>7.171123</td>\n",
       "      <td>0.991736</td>\n",
       "      <td>1644.0</td>\n",
       "      <td>3.392500</td>\n",
       "      <td>38.71</td>\n",
       "      <td>-121.17</td>\n",
       "      <td>2.289</td>\n",
       "    </tr>\n",
       "    <tr>\n",
       "      <th>4</th>\n",
       "      <td>5.6015</td>\n",
       "      <td>24.0</td>\n",
       "      <td>6.087397</td>\n",
       "      <td>1.028519</td>\n",
       "      <td>1432.0</td>\n",
       "      <td>3.031674</td>\n",
       "      <td>34.11</td>\n",
       "      <td>-117.84</td>\n",
       "      <td>1.961</td>\n",
       "    </tr>\n",
       "  </tbody>\n",
       "</table>\n",
       "</div>"
      ],
      "text/plain": [
       "    Median Income  Age of House  Average Number of Rooms  \\\n",
       "id                                                         \n",
       "0          2.4500          25.0                 3.273438   \n",
       "1          3.4018          29.0                 3.980494   \n",
       "2          4.2813          17.0                 5.427894   \n",
       "3          6.0604          21.0                 7.171123   \n",
       "4          5.6015          24.0                 6.087397   \n",
       "\n",
       "    Average Number of Bedrooms  Population  Average Occupancy  Latitude  \\\n",
       "id                                                                        \n",
       "0                     1.000000      1207.0           2.846354     33.96   \n",
       "1                     1.098793      2352.0           1.773756     34.11   \n",
       "2                     0.976281      2672.0           2.455041     33.97   \n",
       "3                     0.991736      1644.0           3.392500     38.71   \n",
       "4                     1.028519      1432.0           3.031674     34.11   \n",
       "\n",
       "    Longitude  Median House Value  \n",
       "id                                 \n",
       "0     -118.36               1.250  \n",
       "1     -118.35               3.500  \n",
       "2     -117.95               1.694  \n",
       "3     -121.17               2.289  \n",
       "4     -117.84               1.961  "
      ]
     },
     "execution_count": 4,
     "metadata": {},
     "output_type": "execute_result"
    }
   ],
   "source": [
    "from be_great import GReaT\n",
    "\n",
    "model = GReaT.load_from_dir(model_path)\n",
    "data = model.sample(\n",
    "    n_samples=1_000,    # change this to generate more samples\n",
    "    k=50,\n",
    "    temperature=0.7,  # values between 0.5-0.9 generally give good results\n",
    "    max_length=256,\n",
    "    device=\"cuda\")\n",
    "data = data.rename_axis('id')\n",
    "data.head()"
   ]
  },
  {
   "cell_type": "markdown",
   "id": "f46b30d0",
   "metadata": {
    "papermill": {
     "duration": 0.011912,
     "end_time": "2023-12-10T15:34:10.769050",
     "exception": false,
     "start_time": "2023-12-10T15:34:10.757138",
     "status": "completed"
    },
    "tags": []
   },
   "source": [
    "## You may need/want to do data cleanup here\n",
    "\n",
    "* Remove outliers\n",
    "* Ensure Lat/Lon make sense\n",
    "* etc."
   ]
  },
  {
   "cell_type": "code",
   "execution_count": 5,
   "id": "7c0d0f18",
   "metadata": {
    "execution": {
     "iopub.execute_input": "2023-12-10T15:34:10.795144Z",
     "iopub.status.busy": "2023-12-10T15:34:10.794760Z",
     "iopub.status.idle": "2023-12-10T15:34:10.800982Z",
     "shell.execute_reply": "2023-12-10T15:34:10.800118Z"
    },
    "papermill": {
     "duration": 0.021411,
     "end_time": "2023-12-10T15:34:10.802896",
     "exception": false,
     "start_time": "2023-12-10T15:34:10.781485",
     "status": "completed"
    },
    "tags": []
   },
   "outputs": [],
   "source": [
    "# Need to rename columns to canonical feature names\n",
    "\n",
    "column_map = {'Median Income': 'MedInc',\n",
    "              'Age of House': 'HouseAge',\n",
    "              'Average Number of Rooms': 'AveRooms',\n",
    "              'Average Number of Bedrooms': 'AveBedrms',\n",
    "              'Average Occupancy': 'AveOccup',\n",
    "              'Median House Value': 'MedHouseVal'}\n",
    "\n",
    "data = data.rename(columns=column_map)"
   ]
  },
  {
   "cell_type": "markdown",
   "id": "3f207d80",
   "metadata": {
    "papermill": {
     "duration": 0.011508,
     "end_time": "2023-12-10T15:34:10.826793",
     "exception": false,
     "start_time": "2023-12-10T15:34:10.815285",
     "status": "completed"
    },
    "tags": []
   },
   "source": [
    "## Create new competition files for a Community Competition"
   ]
  },
  {
   "cell_type": "code",
   "execution_count": 6,
   "id": "1d64d6d1",
   "metadata": {
    "execution": {
     "iopub.execute_input": "2023-12-10T15:34:10.852152Z",
     "iopub.status.busy": "2023-12-10T15:34:10.851781Z",
     "iopub.status.idle": "2023-12-10T15:34:10.872535Z",
     "shell.execute_reply": "2023-12-10T15:34:10.871726Z"
    },
    "papermill": {
     "duration": 0.035918,
     "end_time": "2023-12-10T15:34:10.874666",
     "exception": false,
     "start_time": "2023-12-10T15:34:10.838748",
     "status": "completed"
    },
    "tags": []
   },
   "outputs": [],
   "source": [
    "train_split = 0.6\n",
    "public_split = 0.2\n",
    "\n",
    "train_ids = range(int(data.shape[0] * train_split))\n",
    "train = data.loc[train_ids]\n",
    "test = data.loc[train_ids[-1]+1:]\n",
    "\n",
    "solution = test.pop('MedHouseVal').to_frame()\n",
    "\n",
    "# random sort using hash\n",
    "solution['sort'] = solution.index.astype(str) + solution['MedHouseVal'].astype(str)\n",
    "solution['sort'] = solution['sort'].apply(lambda x: md5(bytes(x, 'utf=8')).hexdigest())\n",
    "assert solution['sort'].is_unique\n",
    "\n",
    "solution = solution.sort_values('sort')\n",
    "solution['Usage'] = 'Private'\n",
    "\n",
    "public_count = int(solution.shape[0] * public_split)\n",
    "solution.iloc[:public_count, 2] = 'Public'\n",
    "\n",
    "solution = solution.drop('sort', axis='columns').sort_index()\n",
    "\n",
    "# sample submission to use the mean of the training data\n",
    "submission = solution[['MedHouseVal']].copy().assign(MedHouseVal=train['MedHouseVal'].mean())"
   ]
  },
  {
   "cell_type": "code",
   "execution_count": 7,
   "id": "3c7264ea",
   "metadata": {
    "execution": {
     "iopub.execute_input": "2023-12-10T15:34:10.899764Z",
     "iopub.status.busy": "2023-12-10T15:34:10.899415Z",
     "iopub.status.idle": "2023-12-10T15:34:10.925794Z",
     "shell.execute_reply": "2023-12-10T15:34:10.924979Z"
    },
    "papermill": {
     "duration": 0.041458,
     "end_time": "2023-12-10T15:34:10.928039",
     "exception": false,
     "start_time": "2023-12-10T15:34:10.886581",
     "status": "completed"
    },
    "tags": []
   },
   "outputs": [],
   "source": [
    "train.to_csv('train.csv')\n",
    "test.to_csv('test.csv')\n",
    "submission.to_csv('sample_submission.csv')\n",
    "solution.to_csv('solution.csv')"
   ]
  },
  {
   "cell_type": "code",
   "execution_count": 8,
   "id": "4fb71706",
   "metadata": {
    "execution": {
     "iopub.execute_input": "2023-12-10T15:34:10.954634Z",
     "iopub.status.busy": "2023-12-10T15:34:10.954287Z",
     "iopub.status.idle": "2023-12-10T15:34:11.271863Z",
     "shell.execute_reply": "2023-12-10T15:34:11.271037Z"
    },
    "papermill": {
     "duration": 0.33366,
     "end_time": "2023-12-10T15:34:11.274201",
     "exception": false,
     "start_time": "2023-12-10T15:34:10.940541",
     "status": "completed"
    },
    "tags": []
   },
   "outputs": [],
   "source": [
    "import pandas as pd\n",
    "from sklearn.model_selection import train_test_split\n",
    "from sklearn.ensemble import RandomForestRegressor\n",
    "from sklearn.metrics import mean_squared_error"
   ]
  },
  {
   "cell_type": "code",
   "execution_count": 9,
   "id": "17f265c1",
   "metadata": {
    "execution": {
     "iopub.execute_input": "2023-12-10T15:34:11.299618Z",
     "iopub.status.busy": "2023-12-10T15:34:11.299283Z",
     "iopub.status.idle": "2023-12-10T15:34:11.473755Z",
     "shell.execute_reply": "2023-12-10T15:34:11.472722Z"
    },
    "papermill": {
     "duration": 0.189784,
     "end_time": "2023-12-10T15:34:11.476211",
     "exception": false,
     "start_time": "2023-12-10T15:34:11.286427",
     "status": "completed"
    },
    "tags": []
   },
   "outputs": [],
   "source": [
    "train_data = pd.read_csv('/kaggle/input/playground-series-s3e1/train.csv')\n",
    "test_data = pd.read_csv('/kaggle/input/playground-series-s3e1/test.csv')"
   ]
  },
  {
   "cell_type": "code",
   "execution_count": 10,
   "id": "1f70edca",
   "metadata": {
    "execution": {
     "iopub.execute_input": "2023-12-10T15:34:11.501855Z",
     "iopub.status.busy": "2023-12-10T15:34:11.501484Z",
     "iopub.status.idle": "2023-12-10T15:34:11.522961Z",
     "shell.execute_reply": "2023-12-10T15:34:11.521833Z"
    },
    "papermill": {
     "duration": 0.036668,
     "end_time": "2023-12-10T15:34:11.525045",
     "exception": false,
     "start_time": "2023-12-10T15:34:11.488377",
     "status": "completed"
    },
    "tags": []
   },
   "outputs": [
    {
     "name": "stdout",
     "output_type": "stream",
     "text": [
      "   id  MedInc  HouseAge  AveRooms  AveBedrms  Population  AveOccup  Latitude  \\\n",
      "0   0  2.3859      15.0  3.827160   1.112100      1280.0  2.486989     34.60   \n",
      "1   1  3.7188      17.0  6.013373   1.054217      1504.0  3.813084     38.69   \n",
      "2   2  4.7750      27.0  6.535604   1.103175      1061.0  2.464602     34.71   \n",
      "3   3  2.4138      16.0  3.350203   0.965432      1255.0  2.089286     32.66   \n",
      "4   4  3.7500      52.0  4.284404   1.069246      1793.0  1.604790     37.80   \n",
      "\n",
      "   Longitude  MedHouseVal  \n",
      "0    -120.12        0.980  \n",
      "1    -121.22        0.946  \n",
      "2    -120.45        1.576  \n",
      "3    -117.09        1.336  \n",
      "4    -122.41        4.500  \n",
      "<class 'pandas.core.frame.DataFrame'>\n",
      "RangeIndex: 37137 entries, 0 to 37136\n",
      "Data columns (total 10 columns):\n",
      " #   Column       Non-Null Count  Dtype  \n",
      "---  ------       --------------  -----  \n",
      " 0   id           37137 non-null  int64  \n",
      " 1   MedInc       37137 non-null  float64\n",
      " 2   HouseAge     37137 non-null  float64\n",
      " 3   AveRooms     37137 non-null  float64\n",
      " 4   AveBedrms    37137 non-null  float64\n",
      " 5   Population   37137 non-null  float64\n",
      " 6   AveOccup     37137 non-null  float64\n",
      " 7   Latitude     37137 non-null  float64\n",
      " 8   Longitude    37137 non-null  float64\n",
      " 9   MedHouseVal  37137 non-null  float64\n",
      "dtypes: float64(9), int64(1)\n",
      "memory usage: 2.8 MB\n",
      "None\n"
     ]
    }
   ],
   "source": [
    "print(train_data.head())\n",
    "print(train_data.info())"
   ]
  },
  {
   "cell_type": "code",
   "execution_count": 11,
   "id": "e42f3284",
   "metadata": {
    "execution": {
     "iopub.execute_input": "2023-12-10T15:34:11.550669Z",
     "iopub.status.busy": "2023-12-10T15:34:11.550036Z",
     "iopub.status.idle": "2023-12-10T15:34:11.556016Z",
     "shell.execute_reply": "2023-12-10T15:34:11.555126Z"
    },
    "papermill": {
     "duration": 0.020894,
     "end_time": "2023-12-10T15:34:11.557939",
     "exception": false,
     "start_time": "2023-12-10T15:34:11.537045",
     "status": "completed"
    },
    "tags": []
   },
   "outputs": [],
   "source": [
    "X = train_data.drop(['id', 'MedHouseVal'], axis=1)\n",
    "y = train_data['MedHouseVal']"
   ]
  },
  {
   "cell_type": "code",
   "execution_count": 12,
   "id": "b2879f0a",
   "metadata": {
    "execution": {
     "iopub.execute_input": "2023-12-10T15:34:11.583193Z",
     "iopub.status.busy": "2023-12-10T15:34:11.582872Z",
     "iopub.status.idle": "2023-12-10T15:34:11.594049Z",
     "shell.execute_reply": "2023-12-10T15:34:11.593268Z"
    },
    "papermill": {
     "duration": 0.026104,
     "end_time": "2023-12-10T15:34:11.595972",
     "exception": false,
     "start_time": "2023-12-10T15:34:11.569868",
     "status": "completed"
    },
    "tags": []
   },
   "outputs": [],
   "source": [
    "X_train, X_val, y_train, y_val = train_test_split(X, y, test_size=0.2, random_state=42)"
   ]
  },
  {
   "cell_type": "code",
   "execution_count": 13,
   "id": "39766186",
   "metadata": {
    "execution": {
     "iopub.execute_input": "2023-12-10T15:34:11.621448Z",
     "iopub.status.busy": "2023-12-10T15:34:11.620675Z",
     "iopub.status.idle": "2023-12-10T15:34:11.636595Z",
     "shell.execute_reply": "2023-12-10T15:34:11.635870Z"
    },
    "papermill": {
     "duration": 0.030548,
     "end_time": "2023-12-10T15:34:11.638537",
     "exception": false,
     "start_time": "2023-12-10T15:34:11.607989",
     "status": "completed"
    },
    "tags": []
   },
   "outputs": [],
   "source": [
    "model = RandomForestRegressor(n_estimators=100, random_state=42)\n"
   ]
  },
  {
   "cell_type": "code",
   "execution_count": 14,
   "id": "7415ac17",
   "metadata": {
    "execution": {
     "iopub.execute_input": "2023-12-10T15:34:11.664464Z",
     "iopub.status.busy": "2023-12-10T15:34:11.664156Z",
     "iopub.status.idle": "2023-12-10T15:34:32.219535Z",
     "shell.execute_reply": "2023-12-10T15:34:32.218603Z"
    },
    "papermill": {
     "duration": 20.570692,
     "end_time": "2023-12-10T15:34:32.221717",
     "exception": false,
     "start_time": "2023-12-10T15:34:11.651025",
     "status": "completed"
    },
    "tags": []
   },
   "outputs": [
    {
     "data": {
      "text/html": [
       "<style>#sk-container-id-1 {color: black;background-color: white;}#sk-container-id-1 pre{padding: 0;}#sk-container-id-1 div.sk-toggleable {background-color: white;}#sk-container-id-1 label.sk-toggleable__label {cursor: pointer;display: block;width: 100%;margin-bottom: 0;padding: 0.3em;box-sizing: border-box;text-align: center;}#sk-container-id-1 label.sk-toggleable__label-arrow:before {content: \"▸\";float: left;margin-right: 0.25em;color: #696969;}#sk-container-id-1 label.sk-toggleable__label-arrow:hover:before {color: black;}#sk-container-id-1 div.sk-estimator:hover label.sk-toggleable__label-arrow:before {color: black;}#sk-container-id-1 div.sk-toggleable__content {max-height: 0;max-width: 0;overflow: hidden;text-align: left;background-color: #f0f8ff;}#sk-container-id-1 div.sk-toggleable__content pre {margin: 0.2em;color: black;border-radius: 0.25em;background-color: #f0f8ff;}#sk-container-id-1 input.sk-toggleable__control:checked~div.sk-toggleable__content {max-height: 200px;max-width: 100%;overflow: auto;}#sk-container-id-1 input.sk-toggleable__control:checked~label.sk-toggleable__label-arrow:before {content: \"▾\";}#sk-container-id-1 div.sk-estimator input.sk-toggleable__control:checked~label.sk-toggleable__label {background-color: #d4ebff;}#sk-container-id-1 div.sk-label input.sk-toggleable__control:checked~label.sk-toggleable__label {background-color: #d4ebff;}#sk-container-id-1 input.sk-hidden--visually {border: 0;clip: rect(1px 1px 1px 1px);clip: rect(1px, 1px, 1px, 1px);height: 1px;margin: -1px;overflow: hidden;padding: 0;position: absolute;width: 1px;}#sk-container-id-1 div.sk-estimator {font-family: monospace;background-color: #f0f8ff;border: 1px dotted black;border-radius: 0.25em;box-sizing: border-box;margin-bottom: 0.5em;}#sk-container-id-1 div.sk-estimator:hover {background-color: #d4ebff;}#sk-container-id-1 div.sk-parallel-item::after {content: \"\";width: 100%;border-bottom: 1px solid gray;flex-grow: 1;}#sk-container-id-1 div.sk-label:hover label.sk-toggleable__label {background-color: #d4ebff;}#sk-container-id-1 div.sk-serial::before {content: \"\";position: absolute;border-left: 1px solid gray;box-sizing: border-box;top: 0;bottom: 0;left: 50%;z-index: 0;}#sk-container-id-1 div.sk-serial {display: flex;flex-direction: column;align-items: center;background-color: white;padding-right: 0.2em;padding-left: 0.2em;position: relative;}#sk-container-id-1 div.sk-item {position: relative;z-index: 1;}#sk-container-id-1 div.sk-parallel {display: flex;align-items: stretch;justify-content: center;background-color: white;position: relative;}#sk-container-id-1 div.sk-item::before, #sk-container-id-1 div.sk-parallel-item::before {content: \"\";position: absolute;border-left: 1px solid gray;box-sizing: border-box;top: 0;bottom: 0;left: 50%;z-index: -1;}#sk-container-id-1 div.sk-parallel-item {display: flex;flex-direction: column;z-index: 1;position: relative;background-color: white;}#sk-container-id-1 div.sk-parallel-item:first-child::after {align-self: flex-end;width: 50%;}#sk-container-id-1 div.sk-parallel-item:last-child::after {align-self: flex-start;width: 50%;}#sk-container-id-1 div.sk-parallel-item:only-child::after {width: 0;}#sk-container-id-1 div.sk-dashed-wrapped {border: 1px dashed gray;margin: 0 0.4em 0.5em 0.4em;box-sizing: border-box;padding-bottom: 0.4em;background-color: white;}#sk-container-id-1 div.sk-label label {font-family: monospace;font-weight: bold;display: inline-block;line-height: 1.2em;}#sk-container-id-1 div.sk-label-container {text-align: center;}#sk-container-id-1 div.sk-container {/* jupyter's `normalize.less` sets `[hidden] { display: none; }` but bootstrap.min.css set `[hidden] { display: none !important; }` so we also need the `!important` here to be able to override the default hidden behavior on the sphinx rendered scikit-learn.org. See: https://github.com/scikit-learn/scikit-learn/issues/21755 */display: inline-block !important;position: relative;}#sk-container-id-1 div.sk-text-repr-fallback {display: none;}</style><div id=\"sk-container-id-1\" class=\"sk-top-container\"><div class=\"sk-text-repr-fallback\"><pre>RandomForestRegressor(random_state=42)</pre><b>In a Jupyter environment, please rerun this cell to show the HTML representation or trust the notebook. <br />On GitHub, the HTML representation is unable to render, please try loading this page with nbviewer.org.</b></div><div class=\"sk-container\" hidden><div class=\"sk-item\"><div class=\"sk-estimator sk-toggleable\"><input class=\"sk-toggleable__control sk-hidden--visually\" id=\"sk-estimator-id-1\" type=\"checkbox\" checked><label for=\"sk-estimator-id-1\" class=\"sk-toggleable__label sk-toggleable__label-arrow\">RandomForestRegressor</label><div class=\"sk-toggleable__content\"><pre>RandomForestRegressor(random_state=42)</pre></div></div></div></div></div>"
      ],
      "text/plain": [
       "RandomForestRegressor(random_state=42)"
      ]
     },
     "execution_count": 14,
     "metadata": {},
     "output_type": "execute_result"
    }
   ],
   "source": [
    "model.fit(X_train, y_train)\n"
   ]
  },
  {
   "cell_type": "code",
   "execution_count": 15,
   "id": "ab7ec3c5",
   "metadata": {
    "execution": {
     "iopub.execute_input": "2023-12-10T15:34:32.247322Z",
     "iopub.status.busy": "2023-12-10T15:34:32.246998Z",
     "iopub.status.idle": "2023-12-10T15:34:32.497526Z",
     "shell.execute_reply": "2023-12-10T15:34:32.496463Z"
    },
    "papermill": {
     "duration": 0.265518,
     "end_time": "2023-12-10T15:34:32.499638",
     "exception": false,
     "start_time": "2023-12-10T15:34:32.234120",
     "status": "completed"
    },
    "tags": []
   },
   "outputs": [
    {
     "name": "stdout",
     "output_type": "stream",
     "text": [
      "Root Mean Squared Error on Validation Set: 0.614959635507734\n"
     ]
    }
   ],
   "source": [
    "val_predictions = model.predict(X_val)\n",
    "\n",
    "rmse = mean_squared_error(y_val, val_predictions, squared=False)\n",
    "print(f'Root Mean Squared Error on Validation Set: {rmse}')"
   ]
  },
  {
   "cell_type": "code",
   "execution_count": 16,
   "id": "9d6bd735",
   "metadata": {
    "execution": {
     "iopub.execute_input": "2023-12-10T15:34:32.524875Z",
     "iopub.status.busy": "2023-12-10T15:34:32.524558Z",
     "iopub.status.idle": "2023-12-10T15:34:33.177318Z",
     "shell.execute_reply": "2023-12-10T15:34:33.176128Z"
    },
    "papermill": {
     "duration": 0.668174,
     "end_time": "2023-12-10T15:34:33.179954",
     "exception": false,
     "start_time": "2023-12-10T15:34:32.511780",
     "status": "completed"
    },
    "tags": []
   },
   "outputs": [],
   "source": [
    "test_features = test_data.drop('id', axis=1)\n",
    "\n",
    "test_predictions = model.predict(test_features)\n",
    "\n",
    "submission_df = pd.DataFrame({'id': range(37137, 37137 + len(test_data)), 'MedHouseVal': test_predictions})\n",
    "\n",
    "\n"
   ]
  },
  {
   "cell_type": "code",
   "execution_count": 17,
   "id": "ae7c7811",
   "metadata": {
    "execution": {
     "iopub.execute_input": "2023-12-10T15:34:33.214540Z",
     "iopub.status.busy": "2023-12-10T15:34:33.214030Z",
     "iopub.status.idle": "2023-12-10T15:34:33.219603Z",
     "shell.execute_reply": "2023-12-10T15:34:33.218603Z"
    },
    "papermill": {
     "duration": 0.02448,
     "end_time": "2023-12-10T15:34:33.223513",
     "exception": false,
     "start_time": "2023-12-10T15:34:33.199033",
     "status": "completed"
    },
    "tags": []
   },
   "outputs": [
    {
     "name": "stdout",
     "output_type": "stream",
     "text": [
      "24759\n",
      "24759\n"
     ]
    }
   ],
   "source": [
    "print(len(submission_df))\n",
    "print(len(test_predictions))"
   ]
  },
  {
   "cell_type": "code",
   "execution_count": 18,
   "id": "ff078a20",
   "metadata": {
    "execution": {
     "iopub.execute_input": "2023-12-10T15:34:33.253574Z",
     "iopub.status.busy": "2023-12-10T15:34:33.253191Z",
     "iopub.status.idle": "2023-12-10T15:34:33.261722Z",
     "shell.execute_reply": "2023-12-10T15:34:33.260598Z"
    },
    "papermill": {
     "duration": 0.023828,
     "end_time": "2023-12-10T15:34:33.263726",
     "exception": false,
     "start_time": "2023-12-10T15:34:33.239898",
     "status": "completed"
    },
    "tags": []
   },
   "outputs": [
    {
     "name": "stdout",
     "output_type": "stream",
     "text": [
      "          id  MedHouseVal\n",
      "0      37137     0.606620\n",
      "1      37138     0.995460\n",
      "2      37139     3.711931\n",
      "3      37140     3.454893\n",
      "4      37141     2.415920\n",
      "...      ...          ...\n",
      "24754  61891     1.980260\n",
      "24755  61892     1.916770\n",
      "24756  61893     1.157240\n",
      "24757  61894     3.987671\n",
      "24758  61895     3.460520\n",
      "\n",
      "[24759 rows x 2 columns]\n"
     ]
    }
   ],
   "source": [
    "print(submission_df)\n"
   ]
  },
  {
   "cell_type": "code",
   "execution_count": 19,
   "id": "a8d4ec28",
   "metadata": {
    "execution": {
     "iopub.execute_input": "2023-12-10T15:34:33.289912Z",
     "iopub.status.busy": "2023-12-10T15:34:33.289577Z",
     "iopub.status.idle": "2023-12-10T15:34:33.384921Z",
     "shell.execute_reply": "2023-12-10T15:34:33.384114Z"
    },
    "papermill": {
     "duration": 0.110787,
     "end_time": "2023-12-10T15:34:33.387234",
     "exception": false,
     "start_time": "2023-12-10T15:34:33.276447",
     "status": "completed"
    },
    "tags": []
   },
   "outputs": [],
   "source": [
    "submission_df.to_csv('submission.csv', index=False)"
   ]
  },
  {
   "cell_type": "code",
   "execution_count": 20,
   "id": "afc3e16f",
   "metadata": {
    "execution": {
     "iopub.execute_input": "2023-12-10T15:34:33.413599Z",
     "iopub.status.busy": "2023-12-10T15:34:33.413245Z",
     "iopub.status.idle": "2023-12-10T15:34:33.417523Z",
     "shell.execute_reply": "2023-12-10T15:34:33.416632Z"
    },
    "papermill": {
     "duration": 0.019756,
     "end_time": "2023-12-10T15:34:33.419551",
     "exception": false,
     "start_time": "2023-12-10T15:34:33.399795",
     "status": "completed"
    },
    "tags": []
   },
   "outputs": [],
   "source": [
    "from sklearn.model_selection import GridSearchCV\n",
    "from sklearn.ensemble import RandomForestRegressor"
   ]
  },
  {
   "cell_type": "code",
   "execution_count": 21,
   "id": "4ad477c1",
   "metadata": {
    "execution": {
     "iopub.execute_input": "2023-12-10T15:34:33.445929Z",
     "iopub.status.busy": "2023-12-10T15:34:33.444983Z",
     "iopub.status.idle": "2023-12-10T15:34:33.449561Z",
     "shell.execute_reply": "2023-12-10T15:34:33.448787Z"
    },
    "papermill": {
     "duration": 0.019663,
     "end_time": "2023-12-10T15:34:33.451423",
     "exception": false,
     "start_time": "2023-12-10T15:34:33.431760",
     "status": "completed"
    },
    "tags": []
   },
   "outputs": [],
   "source": [
    "param_grid = {\n",
    "    'n_estimators': [50, 100, 150],\n",
    "    'max_depth': [None, 10, 20],\n",
    "}"
   ]
  },
  {
   "cell_type": "code",
   "execution_count": 22,
   "id": "16295ad9",
   "metadata": {
    "execution": {
     "iopub.execute_input": "2023-12-10T15:34:33.477188Z",
     "iopub.status.busy": "2023-12-10T15:34:33.476884Z",
     "iopub.status.idle": "2023-12-10T15:34:33.481163Z",
     "shell.execute_reply": "2023-12-10T15:34:33.480332Z"
    },
    "papermill": {
     "duration": 0.019257,
     "end_time": "2023-12-10T15:34:33.483077",
     "exception": false,
     "start_time": "2023-12-10T15:34:33.463820",
     "status": "completed"
    },
    "tags": []
   },
   "outputs": [],
   "source": [
    "model = RandomForestRegressor(random_state=42)"
   ]
  },
  {
   "cell_type": "code",
   "execution_count": 23,
   "id": "66f5206e",
   "metadata": {
    "execution": {
     "iopub.execute_input": "2023-12-10T15:34:33.509159Z",
     "iopub.status.busy": "2023-12-10T15:34:33.508384Z",
     "iopub.status.idle": "2023-12-10T15:34:33.512888Z",
     "shell.execute_reply": "2023-12-10T15:34:33.512080Z"
    },
    "papermill": {
     "duration": 0.019418,
     "end_time": "2023-12-10T15:34:33.514714",
     "exception": false,
     "start_time": "2023-12-10T15:34:33.495296",
     "status": "completed"
    },
    "tags": []
   },
   "outputs": [],
   "source": [
    "grid_search = GridSearchCV(estimator=model, param_grid=param_grid, scoring='neg_mean_squared_error', cv=3)\n"
   ]
  },
  {
   "cell_type": "markdown",
   "id": "548aa919",
   "metadata": {
    "papermill": {
     "duration": 0.011788,
     "end_time": "2023-12-10T15:34:33.538549",
     "exception": false,
     "start_time": "2023-12-10T15:34:33.526761",
     "status": "completed"
    },
    "tags": []
   },
   "source": [
    "**Training the data!**\n"
   ]
  },
  {
   "cell_type": "code",
   "execution_count": 24,
   "id": "770ce6f4",
   "metadata": {
    "execution": {
     "iopub.execute_input": "2023-12-10T15:34:33.564394Z",
     "iopub.status.busy": "2023-12-10T15:34:33.563718Z",
     "iopub.status.idle": "2023-12-10T15:40:13.759611Z",
     "shell.execute_reply": "2023-12-10T15:40:13.758419Z"
    },
    "papermill": {
     "duration": 340.223558,
     "end_time": "2023-12-10T15:40:13.774179",
     "exception": false,
     "start_time": "2023-12-10T15:34:33.550621",
     "status": "completed"
    },
    "tags": []
   },
   "outputs": [
    {
     "data": {
      "text/html": [
       "<style>#sk-container-id-2 {color: black;background-color: white;}#sk-container-id-2 pre{padding: 0;}#sk-container-id-2 div.sk-toggleable {background-color: white;}#sk-container-id-2 label.sk-toggleable__label {cursor: pointer;display: block;width: 100%;margin-bottom: 0;padding: 0.3em;box-sizing: border-box;text-align: center;}#sk-container-id-2 label.sk-toggleable__label-arrow:before {content: \"▸\";float: left;margin-right: 0.25em;color: #696969;}#sk-container-id-2 label.sk-toggleable__label-arrow:hover:before {color: black;}#sk-container-id-2 div.sk-estimator:hover label.sk-toggleable__label-arrow:before {color: black;}#sk-container-id-2 div.sk-toggleable__content {max-height: 0;max-width: 0;overflow: hidden;text-align: left;background-color: #f0f8ff;}#sk-container-id-2 div.sk-toggleable__content pre {margin: 0.2em;color: black;border-radius: 0.25em;background-color: #f0f8ff;}#sk-container-id-2 input.sk-toggleable__control:checked~div.sk-toggleable__content {max-height: 200px;max-width: 100%;overflow: auto;}#sk-container-id-2 input.sk-toggleable__control:checked~label.sk-toggleable__label-arrow:before {content: \"▾\";}#sk-container-id-2 div.sk-estimator input.sk-toggleable__control:checked~label.sk-toggleable__label {background-color: #d4ebff;}#sk-container-id-2 div.sk-label input.sk-toggleable__control:checked~label.sk-toggleable__label {background-color: #d4ebff;}#sk-container-id-2 input.sk-hidden--visually {border: 0;clip: rect(1px 1px 1px 1px);clip: rect(1px, 1px, 1px, 1px);height: 1px;margin: -1px;overflow: hidden;padding: 0;position: absolute;width: 1px;}#sk-container-id-2 div.sk-estimator {font-family: monospace;background-color: #f0f8ff;border: 1px dotted black;border-radius: 0.25em;box-sizing: border-box;margin-bottom: 0.5em;}#sk-container-id-2 div.sk-estimator:hover {background-color: #d4ebff;}#sk-container-id-2 div.sk-parallel-item::after {content: \"\";width: 100%;border-bottom: 1px solid gray;flex-grow: 1;}#sk-container-id-2 div.sk-label:hover label.sk-toggleable__label {background-color: #d4ebff;}#sk-container-id-2 div.sk-serial::before {content: \"\";position: absolute;border-left: 1px solid gray;box-sizing: border-box;top: 0;bottom: 0;left: 50%;z-index: 0;}#sk-container-id-2 div.sk-serial {display: flex;flex-direction: column;align-items: center;background-color: white;padding-right: 0.2em;padding-left: 0.2em;position: relative;}#sk-container-id-2 div.sk-item {position: relative;z-index: 1;}#sk-container-id-2 div.sk-parallel {display: flex;align-items: stretch;justify-content: center;background-color: white;position: relative;}#sk-container-id-2 div.sk-item::before, #sk-container-id-2 div.sk-parallel-item::before {content: \"\";position: absolute;border-left: 1px solid gray;box-sizing: border-box;top: 0;bottom: 0;left: 50%;z-index: -1;}#sk-container-id-2 div.sk-parallel-item {display: flex;flex-direction: column;z-index: 1;position: relative;background-color: white;}#sk-container-id-2 div.sk-parallel-item:first-child::after {align-self: flex-end;width: 50%;}#sk-container-id-2 div.sk-parallel-item:last-child::after {align-self: flex-start;width: 50%;}#sk-container-id-2 div.sk-parallel-item:only-child::after {width: 0;}#sk-container-id-2 div.sk-dashed-wrapped {border: 1px dashed gray;margin: 0 0.4em 0.5em 0.4em;box-sizing: border-box;padding-bottom: 0.4em;background-color: white;}#sk-container-id-2 div.sk-label label {font-family: monospace;font-weight: bold;display: inline-block;line-height: 1.2em;}#sk-container-id-2 div.sk-label-container {text-align: center;}#sk-container-id-2 div.sk-container {/* jupyter's `normalize.less` sets `[hidden] { display: none; }` but bootstrap.min.css set `[hidden] { display: none !important; }` so we also need the `!important` here to be able to override the default hidden behavior on the sphinx rendered scikit-learn.org. See: https://github.com/scikit-learn/scikit-learn/issues/21755 */display: inline-block !important;position: relative;}#sk-container-id-2 div.sk-text-repr-fallback {display: none;}</style><div id=\"sk-container-id-2\" class=\"sk-top-container\"><div class=\"sk-text-repr-fallback\"><pre>GridSearchCV(cv=3, estimator=RandomForestRegressor(random_state=42),\n",
       "             param_grid={&#x27;max_depth&#x27;: [None, 10, 20],\n",
       "                         &#x27;n_estimators&#x27;: [50, 100, 150]},\n",
       "             scoring=&#x27;neg_mean_squared_error&#x27;)</pre><b>In a Jupyter environment, please rerun this cell to show the HTML representation or trust the notebook. <br />On GitHub, the HTML representation is unable to render, please try loading this page with nbviewer.org.</b></div><div class=\"sk-container\" hidden><div class=\"sk-item sk-dashed-wrapped\"><div class=\"sk-label-container\"><div class=\"sk-label sk-toggleable\"><input class=\"sk-toggleable__control sk-hidden--visually\" id=\"sk-estimator-id-2\" type=\"checkbox\" ><label for=\"sk-estimator-id-2\" class=\"sk-toggleable__label sk-toggleable__label-arrow\">GridSearchCV</label><div class=\"sk-toggleable__content\"><pre>GridSearchCV(cv=3, estimator=RandomForestRegressor(random_state=42),\n",
       "             param_grid={&#x27;max_depth&#x27;: [None, 10, 20],\n",
       "                         &#x27;n_estimators&#x27;: [50, 100, 150]},\n",
       "             scoring=&#x27;neg_mean_squared_error&#x27;)</pre></div></div></div><div class=\"sk-parallel\"><div class=\"sk-parallel-item\"><div class=\"sk-item\"><div class=\"sk-label-container\"><div class=\"sk-label sk-toggleable\"><input class=\"sk-toggleable__control sk-hidden--visually\" id=\"sk-estimator-id-3\" type=\"checkbox\" ><label for=\"sk-estimator-id-3\" class=\"sk-toggleable__label sk-toggleable__label-arrow\">estimator: RandomForestRegressor</label><div class=\"sk-toggleable__content\"><pre>RandomForestRegressor(random_state=42)</pre></div></div></div><div class=\"sk-serial\"><div class=\"sk-item\"><div class=\"sk-estimator sk-toggleable\"><input class=\"sk-toggleable__control sk-hidden--visually\" id=\"sk-estimator-id-4\" type=\"checkbox\" ><label for=\"sk-estimator-id-4\" class=\"sk-toggleable__label sk-toggleable__label-arrow\">RandomForestRegressor</label><div class=\"sk-toggleable__content\"><pre>RandomForestRegressor(random_state=42)</pre></div></div></div></div></div></div></div></div></div></div>"
      ],
      "text/plain": [
       "GridSearchCV(cv=3, estimator=RandomForestRegressor(random_state=42),\n",
       "             param_grid={'max_depth': [None, 10, 20],\n",
       "                         'n_estimators': [50, 100, 150]},\n",
       "             scoring='neg_mean_squared_error')"
      ]
     },
     "execution_count": 24,
     "metadata": {},
     "output_type": "execute_result"
    }
   ],
   "source": [
    "grid_search.fit(X_train, y_train)"
   ]
  },
  {
   "cell_type": "code",
   "execution_count": 25,
   "id": "d5eb0780",
   "metadata": {
    "execution": {
     "iopub.execute_input": "2023-12-10T15:40:13.801890Z",
     "iopub.status.busy": "2023-12-10T15:40:13.801001Z",
     "iopub.status.idle": "2023-12-10T15:40:14.179393Z",
     "shell.execute_reply": "2023-12-10T15:40:14.178193Z"
    },
    "papermill": {
     "duration": 0.39483,
     "end_time": "2023-12-10T15:40:14.182224",
     "exception": false,
     "start_time": "2023-12-10T15:40:13.787394",
     "status": "completed"
    },
    "tags": []
   },
   "outputs": [
    {
     "name": "stdout",
     "output_type": "stream",
     "text": [
      "Best Hyperparameters: {'max_depth': None, 'n_estimators': 150}\n"
     ]
    }
   ],
   "source": [
    "print(\"Best Hyperparameters:\", grid_search.best_params_)\n",
    "\n",
    "best_model = grid_search.best_estimator_\n",
    "\n",
    "val_predictions = best_model.predict(X_val)"
   ]
  },
  {
   "cell_type": "code",
   "execution_count": 26,
   "id": "7b516d7d",
   "metadata": {
    "execution": {
     "iopub.execute_input": "2023-12-10T15:40:14.212013Z",
     "iopub.status.busy": "2023-12-10T15:40:14.211313Z",
     "iopub.status.idle": "2023-12-10T15:40:14.217526Z",
     "shell.execute_reply": "2023-12-10T15:40:14.216559Z"
    },
    "papermill": {
     "duration": 0.022485,
     "end_time": "2023-12-10T15:40:14.219824",
     "exception": false,
     "start_time": "2023-12-10T15:40:14.197339",
     "status": "completed"
    },
    "tags": []
   },
   "outputs": [
    {
     "name": "stdout",
     "output_type": "stream",
     "text": [
      "Root Mean Squared Error on Validation Set with Grid Search: 0.6134939292469728\n"
     ]
    }
   ],
   "source": [
    "rmse = mean_squared_error(y_val, val_predictions, squared=False)\n",
    "print(f'Root Mean Squared Error on Validation Set with Grid Search: {rmse}')"
   ]
  },
  {
   "cell_type": "code",
   "execution_count": 27,
   "id": "88cfdead",
   "metadata": {
    "execution": {
     "iopub.execute_input": "2023-12-10T15:40:14.247232Z",
     "iopub.status.busy": "2023-12-10T15:40:14.246513Z",
     "iopub.status.idle": "2023-12-10T15:40:15.226318Z",
     "shell.execute_reply": "2023-12-10T15:40:15.225061Z"
    },
    "papermill": {
     "duration": 0.995797,
     "end_time": "2023-12-10T15:40:15.228402",
     "exception": false,
     "start_time": "2023-12-10T15:40:14.232605",
     "status": "completed"
    },
    "tags": []
   },
   "outputs": [
    {
     "name": "stdout",
     "output_type": "stream",
     "text": [
      "          id  MedHouseVal\n",
      "0      37137     0.607853\n",
      "1      37138     0.991587\n",
      "2      37139     3.609887\n",
      "3      37140     3.415829\n",
      "4      37141     2.480707\n",
      "...      ...          ...\n",
      "24754  61891     1.959107\n",
      "24755  61892     1.950180\n",
      "24756  61893     1.173273\n",
      "24757  61894     4.038461\n",
      "24758  61895     3.429960\n",
      "\n",
      "[24759 rows x 2 columns]\n"
     ]
    }
   ],
   "source": [
    "test_predictions = best_model.predict(test_features)\n",
    "\n",
    "submission_df = pd.DataFrame({'id': range(37137, 37137 + len(test_data)), 'MedHouseVal': test_predictions})\n",
    "\n",
    "print(submission_df)"
   ]
  },
  {
   "cell_type": "code",
   "execution_count": 28,
   "id": "89baa34f",
   "metadata": {
    "execution": {
     "iopub.execute_input": "2023-12-10T15:40:15.255766Z",
     "iopub.status.busy": "2023-12-10T15:40:15.255015Z",
     "iopub.status.idle": "2023-12-10T15:40:15.349783Z",
     "shell.execute_reply": "2023-12-10T15:40:15.348959Z"
    },
    "papermill": {
     "duration": 0.110259,
     "end_time": "2023-12-10T15:40:15.351871",
     "exception": false,
     "start_time": "2023-12-10T15:40:15.241612",
     "status": "completed"
    },
    "tags": []
   },
   "outputs": [],
   "source": [
    "submission_df.to_csv('submission_grid_search.csv', index=False)\n"
   ]
  },
  {
   "cell_type": "code",
   "execution_count": 29,
   "id": "629ba0ee",
   "metadata": {
    "execution": {
     "iopub.execute_input": "2023-12-10T15:40:15.378843Z",
     "iopub.status.busy": "2023-12-10T15:40:15.378568Z",
     "iopub.status.idle": "2023-12-10T15:42:04.521095Z",
     "shell.execute_reply": "2023-12-10T15:42:04.520094Z"
    },
    "papermill": {
     "duration": 109.170128,
     "end_time": "2023-12-10T15:42:04.535077",
     "exception": false,
     "start_time": "2023-12-10T15:40:15.364949",
     "status": "completed"
    },
    "tags": []
   },
   "outputs": [
    {
     "name": "stdout",
     "output_type": "stream",
     "text": [
      "Best Hyperparameters for XGBoost: {'learning_rate': 0.1, 'max_depth': 5, 'n_estimators': 150}\n",
      "Root Mean Squared Error on Validation Set with XGBoost: 0.597987194827306\n",
      "          id  MedHouseVal\n",
      "0      37137     0.731977\n",
      "1      37138     1.026497\n",
      "2      37139     3.960536\n",
      "3      37140     3.493225\n",
      "4      37141     2.299681\n",
      "...      ...          ...\n",
      "24754  61891     2.139527\n",
      "24755  61892     1.941486\n",
      "24756  61893     1.323384\n",
      "24757  61894     3.849522\n",
      "24758  61895     3.772335\n",
      "\n",
      "[24759 rows x 2 columns]\n"
     ]
    }
   ],
   "source": [
    "import pandas as pd\n",
    "from sklearn.model_selection import train_test_split, GridSearchCV\n",
    "from sklearn.metrics import mean_squared_error\n",
    "from xgboost import XGBRegressor\n",
    "\n",
    "# Assuming 'train_data' is loaded and processed as before\n",
    "\n",
    "# Split the data into training and validation sets\n",
    "X = train_data.drop(['id', 'MedHouseVal'], axis=1)\n",
    "y = train_data['MedHouseVal']\n",
    "X_train, X_val, y_train, y_val = train_test_split(X, y, test_size=0.2, random_state=42)\n",
    "\n",
    "# Define the parameter grid for XGBoost\n",
    "param_grid = {\n",
    "    'n_estimators': [50, 100, 150],\n",
    "    'max_depth': [3, 5, 7],\n",
    "    'learning_rate': [0.01, 0.1, 0.2]\n",
    "    # Add other hyperparameters as needed\n",
    "}\n",
    "\n",
    "# Initialize the XGBoost model\n",
    "xgb_model = XGBRegressor(random_state=42)\n",
    "\n",
    "# Initialize GridSearchCV for XGBoost\n",
    "grid_search_xgb = GridSearchCV(estimator=xgb_model, param_grid=param_grid, scoring='neg_mean_squared_error', cv=3)\n",
    "\n",
    "# Fit the grid search to the data\n",
    "grid_search_xgb.fit(X_train, y_train)\n",
    "\n",
    "# Print the best hyperparameters\n",
    "print(\"Best Hyperparameters for XGBoost:\", grid_search_xgb.best_params_)\n",
    "\n",
    "# Get the best XGBoost model from grid search\n",
    "best_xgb_model = grid_search_xgb.best_estimator_\n",
    "\n",
    "# Make predictions on the validation set\n",
    "val_predictions_xgb = best_xgb_model.predict(X_val)\n",
    "\n",
    "# Calculate RMSE for XGBoost\n",
    "rmse_xgb = mean_squared_error(y_val, val_predictions_xgb, squared=False)\n",
    "print(f'Root Mean Squared Error on Validation Set with XGBoost: {rmse_xgb}')\n",
    "\n",
    "# Assuming 'test_data' is loaded and processed as before\n",
    "test_features = test_data.drop('id', axis=1)\n",
    "\n",
    "# Make predictions on the test set using the best XGBoost model\n",
    "test_predictions_xgb = best_xgb_model.predict(test_features)\n",
    "\n",
    "# Create a submission DataFrame with adjusted IDs\n",
    "submission_df_xgb = pd.DataFrame({'id': range(37137, 37137 + len(test_data)), 'MedHouseVal': test_predictions_xgb})\n",
    "\n",
    "# Print the submission DataFrame\n",
    "print(submission_df_xgb)\n",
    "\n",
    "# Save the submission file\n",
    "submission_df_xgb.to_csv('submission_xgb.csv', index=False)\n"
   ]
  }
 ],
 "metadata": {
  "kaggle": {
   "accelerator": "gpu",
   "dataSources": [
    {
     "databundleVersionId": 4856522,
     "sourceId": 44629,
     "sourceType": "competition"
    },
    {
     "datasetId": 3601498,
     "sourceId": 6265612,
     "sourceType": "datasetVersion"
    }
   ],
   "dockerImageVersionId": 30528,
   "isGpuEnabled": true,
   "isInternetEnabled": true,
   "language": "python",
   "sourceType": "notebook"
  },
  "kernelspec": {
   "display_name": "Python 3",
   "language": "python",
   "name": "python3"
  },
  "language_info": {
   "codemirror_mode": {
    "name": "ipython",
    "version": 3
   },
   "file_extension": ".py",
   "mimetype": "text/x-python",
   "name": "python",
   "nbconvert_exporter": "python",
   "pygments_lexer": "ipython3",
   "version": "3.10.12"
  },
  "papermill": {
   "default_parameters": {},
   "duration": 612.953448,
   "end_time": "2023-12-10T15:42:08.167968",
   "environment_variables": {},
   "exception": null,
   "input_path": "__notebook__.ipynb",
   "output_path": "__notebook__.ipynb",
   "parameters": {},
   "start_time": "2023-12-10T15:31:55.214520",
   "version": "2.4.0"
  },
  "widgets": {
   "application/vnd.jupyter.widget-state+json": {
    "state": {
     "01445fd545494e10bc4eb3418029753a": {
      "model_module": "@jupyter-widgets/controls",
      "model_module_version": "1.5.0",
      "model_name": "HBoxModel",
      "state": {
       "_dom_classes": [],
       "_model_module": "@jupyter-widgets/controls",
       "_model_module_version": "1.5.0",
       "_model_name": "HBoxModel",
       "_view_count": null,
       "_view_module": "@jupyter-widgets/controls",
       "_view_module_version": "1.5.0",
       "_view_name": "HBoxView",
       "box_style": "",
       "children": [
        "IPY_MODEL_794e5c2425de4969a164f21d567e567e",
        "IPY_MODEL_aa1d634c2c974d8ea22dbd066aac2eb9",
        "IPY_MODEL_567c99c489884df9a832c142166871fa"
       ],
       "layout": "IPY_MODEL_8f9b6a560f9d457f9eedb6fe27448d64"
      }
     },
     "069ff1580618422b8911c47f8de80d18": {
      "model_module": "@jupyter-widgets/base",
      "model_module_version": "1.2.0",
      "model_name": "LayoutModel",
      "state": {
       "_model_module": "@jupyter-widgets/base",
       "_model_module_version": "1.2.0",
       "_model_name": "LayoutModel",
       "_view_count": null,
       "_view_module": "@jupyter-widgets/base",
       "_view_module_version": "1.2.0",
       "_view_name": "LayoutView",
       "align_content": null,
       "align_items": null,
       "align_self": null,
       "border": null,
       "bottom": null,
       "display": null,
       "flex": null,
       "flex_flow": null,
       "grid_area": null,
       "grid_auto_columns": null,
       "grid_auto_flow": null,
       "grid_auto_rows": null,
       "grid_column": null,
       "grid_gap": null,
       "grid_row": null,
       "grid_template_areas": null,
       "grid_template_columns": null,
       "grid_template_rows": null,
       "height": null,
       "justify_content": null,
       "justify_items": null,
       "left": null,
       "margin": null,
       "max_height": null,
       "max_width": null,
       "min_height": null,
       "min_width": null,
       "object_fit": null,
       "object_position": null,
       "order": null,
       "overflow": null,
       "overflow_x": null,
       "overflow_y": null,
       "padding": null,
       "right": null,
       "top": null,
       "visibility": null,
       "width": null
      }
     },
     "085df605147246c8bdc058e5ed7c39a8": {
      "model_module": "@jupyter-widgets/base",
      "model_module_version": "1.2.0",
      "model_name": "LayoutModel",
      "state": {
       "_model_module": "@jupyter-widgets/base",
       "_model_module_version": "1.2.0",
       "_model_name": "LayoutModel",
       "_view_count": null,
       "_view_module": "@jupyter-widgets/base",
       "_view_module_version": "1.2.0",
       "_view_name": "LayoutView",
       "align_content": null,
       "align_items": null,
       "align_self": null,
       "border": null,
       "bottom": null,
       "display": null,
       "flex": null,
       "flex_flow": null,
       "grid_area": null,
       "grid_auto_columns": null,
       "grid_auto_flow": null,
       "grid_auto_rows": null,
       "grid_column": null,
       "grid_gap": null,
       "grid_row": null,
       "grid_template_areas": null,
       "grid_template_columns": null,
       "grid_template_rows": null,
       "height": null,
       "justify_content": null,
       "justify_items": null,
       "left": null,
       "margin": null,
       "max_height": null,
       "max_width": null,
       "min_height": null,
       "min_width": null,
       "object_fit": null,
       "object_position": null,
       "order": null,
       "overflow": null,
       "overflow_x": null,
       "overflow_y": null,
       "padding": null,
       "right": null,
       "top": null,
       "visibility": null,
       "width": null
      }
     },
     "102a126b16bd412fbbba5a71d8d91132": {
      "model_module": "@jupyter-widgets/controls",
      "model_module_version": "1.5.0",
      "model_name": "HBoxModel",
      "state": {
       "_dom_classes": [],
       "_model_module": "@jupyter-widgets/controls",
       "_model_module_version": "1.5.0",
       "_model_name": "HBoxModel",
       "_view_count": null,
       "_view_module": "@jupyter-widgets/controls",
       "_view_module_version": "1.5.0",
       "_view_name": "HBoxView",
       "box_style": "",
       "children": [
        "IPY_MODEL_c138983c50e24f0aa7925e9469b155f5",
        "IPY_MODEL_b8868a16dd2f472da886f36e135adb19",
        "IPY_MODEL_76ceed414f674e0cada0fd6eb6ec705f"
       ],
       "layout": "IPY_MODEL_069ff1580618422b8911c47f8de80d18"
      }
     },
     "124854ae0b4b42828c46a43366efdf62": {
      "model_module": "@jupyter-widgets/base",
      "model_module_version": "1.2.0",
      "model_name": "LayoutModel",
      "state": {
       "_model_module": "@jupyter-widgets/base",
       "_model_module_version": "1.2.0",
       "_model_name": "LayoutModel",
       "_view_count": null,
       "_view_module": "@jupyter-widgets/base",
       "_view_module_version": "1.2.0",
       "_view_name": "LayoutView",
       "align_content": null,
       "align_items": null,
       "align_self": null,
       "border": null,
       "bottom": null,
       "display": null,
       "flex": null,
       "flex_flow": null,
       "grid_area": null,
       "grid_auto_columns": null,
       "grid_auto_flow": null,
       "grid_auto_rows": null,
       "grid_column": null,
       "grid_gap": null,
       "grid_row": null,
       "grid_template_areas": null,
       "grid_template_columns": null,
       "grid_template_rows": null,
       "height": null,
       "justify_content": null,
       "justify_items": null,
       "left": null,
       "margin": null,
       "max_height": null,
       "max_width": null,
       "min_height": null,
       "min_width": null,
       "object_fit": null,
       "object_position": null,
       "order": null,
       "overflow": null,
       "overflow_x": null,
       "overflow_y": null,
       "padding": null,
       "right": null,
       "top": null,
       "visibility": null,
       "width": null
      }
     },
     "1b0f28bb0d8a4a84a34f1eac56aebe14": {
      "model_module": "@jupyter-widgets/controls",
      "model_module_version": "1.5.0",
      "model_name": "HBoxModel",
      "state": {
       "_dom_classes": [],
       "_model_module": "@jupyter-widgets/controls",
       "_model_module_version": "1.5.0",
       "_model_name": "HBoxModel",
       "_view_count": null,
       "_view_module": "@jupyter-widgets/controls",
       "_view_module_version": "1.5.0",
       "_view_name": "HBoxView",
       "box_style": "",
       "children": [
        "IPY_MODEL_5bebee548cc14a46bc2db34290975934",
        "IPY_MODEL_6980b794c4d2463a8214d5d1b98dd8cb",
        "IPY_MODEL_d06715e019c74bc6b14ef00cce3c2a01"
       ],
       "layout": "IPY_MODEL_39d98726212d477284b44cbf3b313d20"
      }
     },
     "200b8d69e8f0418d9488c7f52f7eebe4": {
      "model_module": "@jupyter-widgets/base",
      "model_module_version": "1.2.0",
      "model_name": "LayoutModel",
      "state": {
       "_model_module": "@jupyter-widgets/base",
       "_model_module_version": "1.2.0",
       "_model_name": "LayoutModel",
       "_view_count": null,
       "_view_module": "@jupyter-widgets/base",
       "_view_module_version": "1.2.0",
       "_view_name": "LayoutView",
       "align_content": null,
       "align_items": null,
       "align_self": null,
       "border": null,
       "bottom": null,
       "display": null,
       "flex": null,
       "flex_flow": null,
       "grid_area": null,
       "grid_auto_columns": null,
       "grid_auto_flow": null,
       "grid_auto_rows": null,
       "grid_column": null,
       "grid_gap": null,
       "grid_row": null,
       "grid_template_areas": null,
       "grid_template_columns": null,
       "grid_template_rows": null,
       "height": null,
       "justify_content": null,
       "justify_items": null,
       "left": null,
       "margin": null,
       "max_height": null,
       "max_width": null,
       "min_height": null,
       "min_width": null,
       "object_fit": null,
       "object_position": null,
       "order": null,
       "overflow": null,
       "overflow_x": null,
       "overflow_y": null,
       "padding": null,
       "right": null,
       "top": null,
       "visibility": null,
       "width": null
      }
     },
     "2349d2ab94144abab2925ab2c05d2bd5": {
      "model_module": "@jupyter-widgets/controls",
      "model_module_version": "1.5.0",
      "model_name": "DescriptionStyleModel",
      "state": {
       "_model_module": "@jupyter-widgets/controls",
       "_model_module_version": "1.5.0",
       "_model_name": "DescriptionStyleModel",
       "_view_count": null,
       "_view_module": "@jupyter-widgets/base",
       "_view_module_version": "1.2.0",
       "_view_name": "StyleView",
       "description_width": ""
      }
     },
     "25680dc10a5b47f58291ffc36f59c1c8": {
      "model_module": "@jupyter-widgets/base",
      "model_module_version": "1.2.0",
      "model_name": "LayoutModel",
      "state": {
       "_model_module": "@jupyter-widgets/base",
       "_model_module_version": "1.2.0",
       "_model_name": "LayoutModel",
       "_view_count": null,
       "_view_module": "@jupyter-widgets/base",
       "_view_module_version": "1.2.0",
       "_view_name": "LayoutView",
       "align_content": null,
       "align_items": null,
       "align_self": null,
       "border": null,
       "bottom": null,
       "display": null,
       "flex": null,
       "flex_flow": null,
       "grid_area": null,
       "grid_auto_columns": null,
       "grid_auto_flow": null,
       "grid_auto_rows": null,
       "grid_column": null,
       "grid_gap": null,
       "grid_row": null,
       "grid_template_areas": null,
       "grid_template_columns": null,
       "grid_template_rows": null,
       "height": null,
       "justify_content": null,
       "justify_items": null,
       "left": null,
       "margin": null,
       "max_height": null,
       "max_width": null,
       "min_height": null,
       "min_width": null,
       "object_fit": null,
       "object_position": null,
       "order": null,
       "overflow": null,
       "overflow_x": null,
       "overflow_y": null,
       "padding": null,
       "right": null,
       "top": null,
       "visibility": null,
       "width": null
      }
     },
     "29ae788fea8d43d288fad51fb01546bd": {
      "model_module": "@jupyter-widgets/base",
      "model_module_version": "1.2.0",
      "model_name": "LayoutModel",
      "state": {
       "_model_module": "@jupyter-widgets/base",
       "_model_module_version": "1.2.0",
       "_model_name": "LayoutModel",
       "_view_count": null,
       "_view_module": "@jupyter-widgets/base",
       "_view_module_version": "1.2.0",
       "_view_name": "LayoutView",
       "align_content": null,
       "align_items": null,
       "align_self": null,
       "border": null,
       "bottom": null,
       "display": null,
       "flex": null,
       "flex_flow": null,
       "grid_area": null,
       "grid_auto_columns": null,
       "grid_auto_flow": null,
       "grid_auto_rows": null,
       "grid_column": null,
       "grid_gap": null,
       "grid_row": null,
       "grid_template_areas": null,
       "grid_template_columns": null,
       "grid_template_rows": null,
       "height": null,
       "justify_content": null,
       "justify_items": null,
       "left": null,
       "margin": null,
       "max_height": null,
       "max_width": null,
       "min_height": null,
       "min_width": null,
       "object_fit": null,
       "object_position": null,
       "order": null,
       "overflow": null,
       "overflow_x": null,
       "overflow_y": null,
       "padding": null,
       "right": null,
       "top": null,
       "visibility": null,
       "width": null
      }
     },
     "2f25403fe02548db95c55bf3e84f1e01": {
      "model_module": "@jupyter-widgets/base",
      "model_module_version": "1.2.0",
      "model_name": "LayoutModel",
      "state": {
       "_model_module": "@jupyter-widgets/base",
       "_model_module_version": "1.2.0",
       "_model_name": "LayoutModel",
       "_view_count": null,
       "_view_module": "@jupyter-widgets/base",
       "_view_module_version": "1.2.0",
       "_view_name": "LayoutView",
       "align_content": null,
       "align_items": null,
       "align_self": null,
       "border": null,
       "bottom": null,
       "display": null,
       "flex": null,
       "flex_flow": null,
       "grid_area": null,
       "grid_auto_columns": null,
       "grid_auto_flow": null,
       "grid_auto_rows": null,
       "grid_column": null,
       "grid_gap": null,
       "grid_row": null,
       "grid_template_areas": null,
       "grid_template_columns": null,
       "grid_template_rows": null,
       "height": null,
       "justify_content": null,
       "justify_items": null,
       "left": null,
       "margin": null,
       "max_height": null,
       "max_width": null,
       "min_height": null,
       "min_width": null,
       "object_fit": null,
       "object_position": null,
       "order": null,
       "overflow": null,
       "overflow_x": null,
       "overflow_y": null,
       "padding": null,
       "right": null,
       "top": null,
       "visibility": null,
       "width": null
      }
     },
     "2f3422dac8734025981e079b4391c29c": {
      "model_module": "@jupyter-widgets/controls",
      "model_module_version": "1.5.0",
      "model_name": "DescriptionStyleModel",
      "state": {
       "_model_module": "@jupyter-widgets/controls",
       "_model_module_version": "1.5.0",
       "_model_name": "DescriptionStyleModel",
       "_view_count": null,
       "_view_module": "@jupyter-widgets/base",
       "_view_module_version": "1.2.0",
       "_view_name": "StyleView",
       "description_width": ""
      }
     },
     "30314a5dff914482b2b1a695f4de61a2": {
      "model_module": "@jupyter-widgets/controls",
      "model_module_version": "1.5.0",
      "model_name": "ProgressStyleModel",
      "state": {
       "_model_module": "@jupyter-widgets/controls",
       "_model_module_version": "1.5.0",
       "_model_name": "ProgressStyleModel",
       "_view_count": null,
       "_view_module": "@jupyter-widgets/base",
       "_view_module_version": "1.2.0",
       "_view_name": "StyleView",
       "bar_color": null,
       "description_width": ""
      }
     },
     "3239338f51ca4138ab583b58c5ccc1b8": {
      "model_module": "@jupyter-widgets/controls",
      "model_module_version": "1.5.0",
      "model_name": "DescriptionStyleModel",
      "state": {
       "_model_module": "@jupyter-widgets/controls",
       "_model_module_version": "1.5.0",
       "_model_name": "DescriptionStyleModel",
       "_view_count": null,
       "_view_module": "@jupyter-widgets/base",
       "_view_module_version": "1.2.0",
       "_view_name": "StyleView",
       "description_width": ""
      }
     },
     "380fc06cf8f943c9b684f6722f27e904": {
      "model_module": "@jupyter-widgets/base",
      "model_module_version": "1.2.0",
      "model_name": "LayoutModel",
      "state": {
       "_model_module": "@jupyter-widgets/base",
       "_model_module_version": "1.2.0",
       "_model_name": "LayoutModel",
       "_view_count": null,
       "_view_module": "@jupyter-widgets/base",
       "_view_module_version": "1.2.0",
       "_view_name": "LayoutView",
       "align_content": null,
       "align_items": null,
       "align_self": null,
       "border": null,
       "bottom": null,
       "display": null,
       "flex": null,
       "flex_flow": null,
       "grid_area": null,
       "grid_auto_columns": null,
       "grid_auto_flow": null,
       "grid_auto_rows": null,
       "grid_column": null,
       "grid_gap": null,
       "grid_row": null,
       "grid_template_areas": null,
       "grid_template_columns": null,
       "grid_template_rows": null,
       "height": null,
       "justify_content": null,
       "justify_items": null,
       "left": null,
       "margin": null,
       "max_height": null,
       "max_width": null,
       "min_height": null,
       "min_width": null,
       "object_fit": null,
       "object_position": null,
       "order": null,
       "overflow": null,
       "overflow_x": null,
       "overflow_y": null,
       "padding": null,
       "right": null,
       "top": null,
       "visibility": null,
       "width": null
      }
     },
     "388473c9ccaf4b6fb8bc292090915885": {
      "model_module": "@jupyter-widgets/controls",
      "model_module_version": "1.5.0",
      "model_name": "HTMLModel",
      "state": {
       "_dom_classes": [],
       "_model_module": "@jupyter-widgets/controls",
       "_model_module_version": "1.5.0",
       "_model_name": "HTMLModel",
       "_view_count": null,
       "_view_module": "@jupyter-widgets/controls",
       "_view_module_version": "1.5.0",
       "_view_name": "HTMLView",
       "description": "",
       "description_tooltip": null,
       "layout": "IPY_MODEL_f831b01293a949e698ffffdc91dd666f",
       "placeholder": "​",
       "style": "IPY_MODEL_3c4ef82be1024bc09744d92efc571573",
       "value": "generation_config.json: 100%"
      }
     },
     "39d98726212d477284b44cbf3b313d20": {
      "model_module": "@jupyter-widgets/base",
      "model_module_version": "1.2.0",
      "model_name": "LayoutModel",
      "state": {
       "_model_module": "@jupyter-widgets/base",
       "_model_module_version": "1.2.0",
       "_model_name": "LayoutModel",
       "_view_count": null,
       "_view_module": "@jupyter-widgets/base",
       "_view_module_version": "1.2.0",
       "_view_name": "LayoutView",
       "align_content": null,
       "align_items": null,
       "align_self": null,
       "border": null,
       "bottom": null,
       "display": null,
       "flex": null,
       "flex_flow": null,
       "grid_area": null,
       "grid_auto_columns": null,
       "grid_auto_flow": null,
       "grid_auto_rows": null,
       "grid_column": null,
       "grid_gap": null,
       "grid_row": null,
       "grid_template_areas": null,
       "grid_template_columns": null,
       "grid_template_rows": null,
       "height": null,
       "justify_content": null,
       "justify_items": null,
       "left": null,
       "margin": null,
       "max_height": null,
       "max_width": null,
       "min_height": null,
       "min_width": null,
       "object_fit": null,
       "object_position": null,
       "order": null,
       "overflow": null,
       "overflow_x": null,
       "overflow_y": null,
       "padding": null,
       "right": null,
       "top": null,
       "visibility": null,
       "width": null
      }
     },
     "3c4ef82be1024bc09744d92efc571573": {
      "model_module": "@jupyter-widgets/controls",
      "model_module_version": "1.5.0",
      "model_name": "DescriptionStyleModel",
      "state": {
       "_model_module": "@jupyter-widgets/controls",
       "_model_module_version": "1.5.0",
       "_model_name": "DescriptionStyleModel",
       "_view_count": null,
       "_view_module": "@jupyter-widgets/base",
       "_view_module_version": "1.2.0",
       "_view_name": "StyleView",
       "description_width": ""
      }
     },
     "426ec6bfce0348f3bc0d152a42483b6c": {
      "model_module": "@jupyter-widgets/controls",
      "model_module_version": "1.5.0",
      "model_name": "DescriptionStyleModel",
      "state": {
       "_model_module": "@jupyter-widgets/controls",
       "_model_module_version": "1.5.0",
       "_model_name": "DescriptionStyleModel",
       "_view_count": null,
       "_view_module": "@jupyter-widgets/base",
       "_view_module_version": "1.2.0",
       "_view_name": "StyleView",
       "description_width": ""
      }
     },
     "49779398e694467485d19f5be1078fbc": {
      "model_module": "@jupyter-widgets/base",
      "model_module_version": "1.2.0",
      "model_name": "LayoutModel",
      "state": {
       "_model_module": "@jupyter-widgets/base",
       "_model_module_version": "1.2.0",
       "_model_name": "LayoutModel",
       "_view_count": null,
       "_view_module": "@jupyter-widgets/base",
       "_view_module_version": "1.2.0",
       "_view_name": "LayoutView",
       "align_content": null,
       "align_items": null,
       "align_self": null,
       "border": null,
       "bottom": null,
       "display": null,
       "flex": null,
       "flex_flow": null,
       "grid_area": null,
       "grid_auto_columns": null,
       "grid_auto_flow": null,
       "grid_auto_rows": null,
       "grid_column": null,
       "grid_gap": null,
       "grid_row": null,
       "grid_template_areas": null,
       "grid_template_columns": null,
       "grid_template_rows": null,
       "height": null,
       "justify_content": null,
       "justify_items": null,
       "left": null,
       "margin": null,
       "max_height": null,
       "max_width": null,
       "min_height": null,
       "min_width": null,
       "object_fit": null,
       "object_position": null,
       "order": null,
       "overflow": null,
       "overflow_x": null,
       "overflow_y": null,
       "padding": null,
       "right": null,
       "top": null,
       "visibility": null,
       "width": null
      }
     },
     "4c46ecc408f7428299b210a7bc8ac217": {
      "model_module": "@jupyter-widgets/controls",
      "model_module_version": "1.5.0",
      "model_name": "DescriptionStyleModel",
      "state": {
       "_model_module": "@jupyter-widgets/controls",
       "_model_module_version": "1.5.0",
       "_model_name": "DescriptionStyleModel",
       "_view_count": null,
       "_view_module": "@jupyter-widgets/base",
       "_view_module_version": "1.2.0",
       "_view_name": "StyleView",
       "description_width": ""
      }
     },
     "51c5188a2c3e4556a8dfadd5bd19bcb4": {
      "model_module": "@jupyter-widgets/base",
      "model_module_version": "1.2.0",
      "model_name": "LayoutModel",
      "state": {
       "_model_module": "@jupyter-widgets/base",
       "_model_module_version": "1.2.0",
       "_model_name": "LayoutModel",
       "_view_count": null,
       "_view_module": "@jupyter-widgets/base",
       "_view_module_version": "1.2.0",
       "_view_name": "LayoutView",
       "align_content": null,
       "align_items": null,
       "align_self": null,
       "border": null,
       "bottom": null,
       "display": null,
       "flex": null,
       "flex_flow": null,
       "grid_area": null,
       "grid_auto_columns": null,
       "grid_auto_flow": null,
       "grid_auto_rows": null,
       "grid_column": null,
       "grid_gap": null,
       "grid_row": null,
       "grid_template_areas": null,
       "grid_template_columns": null,
       "grid_template_rows": null,
       "height": null,
       "justify_content": null,
       "justify_items": null,
       "left": null,
       "margin": null,
       "max_height": null,
       "max_width": null,
       "min_height": null,
       "min_width": null,
       "object_fit": null,
       "object_position": null,
       "order": null,
       "overflow": null,
       "overflow_x": null,
       "overflow_y": null,
       "padding": null,
       "right": null,
       "top": null,
       "visibility": null,
       "width": null
      }
     },
     "54c9095be1ea4746be3aeb46e33212bf": {
      "model_module": "@jupyter-widgets/controls",
      "model_module_version": "1.5.0",
      "model_name": "FloatProgressModel",
      "state": {
       "_dom_classes": [],
       "_model_module": "@jupyter-widgets/controls",
       "_model_module_version": "1.5.0",
       "_model_name": "FloatProgressModel",
       "_view_count": null,
       "_view_module": "@jupyter-widgets/controls",
       "_view_module_version": "1.5.0",
       "_view_name": "ProgressView",
       "bar_style": "success",
       "description": "",
       "description_tooltip": null,
       "layout": "IPY_MODEL_25680dc10a5b47f58291ffc36f59c1c8",
       "max": 1042301.0,
       "min": 0.0,
       "orientation": "horizontal",
       "style": "IPY_MODEL_6189763f44694d11b2b8f345f9fb5ca1",
       "value": 1042301.0
      }
     },
     "567c99c489884df9a832c142166871fa": {
      "model_module": "@jupyter-widgets/controls",
      "model_module_version": "1.5.0",
      "model_name": "HTMLModel",
      "state": {
       "_dom_classes": [],
       "_model_module": "@jupyter-widgets/controls",
       "_model_module_version": "1.5.0",
       "_model_name": "HTMLModel",
       "_view_count": null,
       "_view_module": "@jupyter-widgets/controls",
       "_view_module_version": "1.5.0",
       "_view_name": "HTMLView",
       "description": "",
       "description_tooltip": null,
       "layout": "IPY_MODEL_863a02a520284e0fa34b6e6532a580dc",
       "placeholder": "​",
       "style": "IPY_MODEL_6278671e61194d4eb5e5ac9748661b87",
       "value": " 1.36M/1.36M [00:00&lt;00:00, 3.31MB/s]"
      }
     },
     "570995af26014bffafa4f5dce5226978": {
      "model_module": "@jupyter-widgets/controls",
      "model_module_version": "1.5.0",
      "model_name": "HTMLModel",
      "state": {
       "_dom_classes": [],
       "_model_module": "@jupyter-widgets/controls",
       "_model_module_version": "1.5.0",
       "_model_name": "HTMLModel",
       "_view_count": null,
       "_view_module": "@jupyter-widgets/controls",
       "_view_module_version": "1.5.0",
       "_view_name": "HTMLView",
       "description": "",
       "description_tooltip": null,
       "layout": "IPY_MODEL_ce84bdbc844347ca9de628aa4649825f",
       "placeholder": "​",
       "style": "IPY_MODEL_892453b45ec0459f85241e22be8aa807",
       "value": " 1.52G/1.52G [00:03&lt;00:00, 405MB/s]"
      }
     },
     "5b3993971d3a4fcb915a50bf5ddbbc30": {
      "model_module": "@jupyter-widgets/controls",
      "model_module_version": "1.5.0",
      "model_name": "HTMLModel",
      "state": {
       "_dom_classes": [],
       "_model_module": "@jupyter-widgets/controls",
       "_model_module_version": "1.5.0",
       "_model_name": "HTMLModel",
       "_view_count": null,
       "_view_module": "@jupyter-widgets/controls",
       "_view_module_version": "1.5.0",
       "_view_name": "HTMLView",
       "description": "",
       "description_tooltip": null,
       "layout": "IPY_MODEL_124854ae0b4b42828c46a43366efdf62",
       "placeholder": "​",
       "style": "IPY_MODEL_426ec6bfce0348f3bc0d152a42483b6c",
       "value": "model.safetensors: 100%"
      }
     },
     "5bebee548cc14a46bc2db34290975934": {
      "model_module": "@jupyter-widgets/controls",
      "model_module_version": "1.5.0",
      "model_name": "HTMLModel",
      "state": {
       "_dom_classes": [],
       "_model_module": "@jupyter-widgets/controls",
       "_model_module_version": "1.5.0",
       "_model_name": "HTMLModel",
       "_view_count": null,
       "_view_module": "@jupyter-widgets/controls",
       "_view_module_version": "1.5.0",
       "_view_name": "HTMLView",
       "description": "",
       "description_tooltip": null,
       "layout": "IPY_MODEL_49779398e694467485d19f5be1078fbc",
       "placeholder": "​",
       "style": "IPY_MODEL_6e44b70614fc42d196af4a2dfcc5a280",
       "value": "config.json: 100%"
      }
     },
     "5f412190f8784e0ca25bbc9cafd12e75": {
      "model_module": "@jupyter-widgets/controls",
      "model_module_version": "1.5.0",
      "model_name": "ProgressStyleModel",
      "state": {
       "_model_module": "@jupyter-widgets/controls",
       "_model_module_version": "1.5.0",
       "_model_name": "ProgressStyleModel",
       "_view_count": null,
       "_view_module": "@jupyter-widgets/base",
       "_view_module_version": "1.2.0",
       "_view_name": "StyleView",
       "bar_color": null,
       "description_width": ""
      }
     },
     "6189763f44694d11b2b8f345f9fb5ca1": {
      "model_module": "@jupyter-widgets/controls",
      "model_module_version": "1.5.0",
      "model_name": "ProgressStyleModel",
      "state": {
       "_model_module": "@jupyter-widgets/controls",
       "_model_module_version": "1.5.0",
       "_model_name": "ProgressStyleModel",
       "_view_count": null,
       "_view_module": "@jupyter-widgets/base",
       "_view_module_version": "1.2.0",
       "_view_name": "StyleView",
       "bar_color": null,
       "description_width": ""
      }
     },
     "6278671e61194d4eb5e5ac9748661b87": {
      "model_module": "@jupyter-widgets/controls",
      "model_module_version": "1.5.0",
      "model_name": "DescriptionStyleModel",
      "state": {
       "_model_module": "@jupyter-widgets/controls",
       "_model_module_version": "1.5.0",
       "_model_name": "DescriptionStyleModel",
       "_view_count": null,
       "_view_module": "@jupyter-widgets/base",
       "_view_module_version": "1.2.0",
       "_view_name": "StyleView",
       "description_width": ""
      }
     },
     "6980b794c4d2463a8214d5d1b98dd8cb": {
      "model_module": "@jupyter-widgets/controls",
      "model_module_version": "1.5.0",
      "model_name": "FloatProgressModel",
      "state": {
       "_dom_classes": [],
       "_model_module": "@jupyter-widgets/controls",
       "_model_module_version": "1.5.0",
       "_model_name": "FloatProgressModel",
       "_view_count": null,
       "_view_module": "@jupyter-widgets/controls",
       "_view_module_version": "1.5.0",
       "_view_name": "ProgressView",
       "bar_style": "success",
       "description": "",
       "description_tooltip": null,
       "layout": "IPY_MODEL_f0a839ffc00f49e38eeb8f6a1a36d849",
       "max": 718.0,
       "min": 0.0,
       "orientation": "horizontal",
       "style": "IPY_MODEL_f33c62941ba74ff4aa36b9c634ecd8b3",
       "value": 718.0
      }
     },
     "6e44b70614fc42d196af4a2dfcc5a280": {
      "model_module": "@jupyter-widgets/controls",
      "model_module_version": "1.5.0",
      "model_name": "DescriptionStyleModel",
      "state": {
       "_model_module": "@jupyter-widgets/controls",
       "_model_module_version": "1.5.0",
       "_model_name": "DescriptionStyleModel",
       "_view_count": null,
       "_view_module": "@jupyter-widgets/base",
       "_view_module_version": "1.2.0",
       "_view_name": "StyleView",
       "description_width": ""
      }
     },
     "706038831ee943c89c2ffa50951a99d0": {
      "model_module": "@jupyter-widgets/controls",
      "model_module_version": "1.5.0",
      "model_name": "FloatProgressModel",
      "state": {
       "_dom_classes": [],
       "_model_module": "@jupyter-widgets/controls",
       "_model_module_version": "1.5.0",
       "_model_name": "FloatProgressModel",
       "_view_count": null,
       "_view_module": "@jupyter-widgets/controls",
       "_view_module_version": "1.5.0",
       "_view_name": "ProgressView",
       "bar_style": "success",
       "description": "",
       "description_tooltip": null,
       "layout": "IPY_MODEL_85fa0c19540746509c136463564d5622",
       "max": 124.0,
       "min": 0.0,
       "orientation": "horizontal",
       "style": "IPY_MODEL_5f412190f8784e0ca25bbc9cafd12e75",
       "value": 124.0
      }
     },
     "72e4d052ec134e7a913f06115a0785bb": {
      "model_module": "@jupyter-widgets/base",
      "model_module_version": "1.2.0",
      "model_name": "LayoutModel",
      "state": {
       "_model_module": "@jupyter-widgets/base",
       "_model_module_version": "1.2.0",
       "_model_name": "LayoutModel",
       "_view_count": null,
       "_view_module": "@jupyter-widgets/base",
       "_view_module_version": "1.2.0",
       "_view_name": "LayoutView",
       "align_content": null,
       "align_items": null,
       "align_self": null,
       "border": null,
       "bottom": null,
       "display": null,
       "flex": null,
       "flex_flow": null,
       "grid_area": null,
       "grid_auto_columns": null,
       "grid_auto_flow": null,
       "grid_auto_rows": null,
       "grid_column": null,
       "grid_gap": null,
       "grid_row": null,
       "grid_template_areas": null,
       "grid_template_columns": null,
       "grid_template_rows": null,
       "height": null,
       "justify_content": null,
       "justify_items": null,
       "left": null,
       "margin": null,
       "max_height": null,
       "max_width": null,
       "min_height": null,
       "min_width": null,
       "object_fit": null,
       "object_position": null,
       "order": null,
       "overflow": null,
       "overflow_x": null,
       "overflow_y": null,
       "padding": null,
       "right": null,
       "top": null,
       "visibility": null,
       "width": null
      }
     },
     "7518b0b76f5240f695036132bba606a2": {
      "model_module": "@jupyter-widgets/base",
      "model_module_version": "1.2.0",
      "model_name": "LayoutModel",
      "state": {
       "_model_module": "@jupyter-widgets/base",
       "_model_module_version": "1.2.0",
       "_model_name": "LayoutModel",
       "_view_count": null,
       "_view_module": "@jupyter-widgets/base",
       "_view_module_version": "1.2.0",
       "_view_name": "LayoutView",
       "align_content": null,
       "align_items": null,
       "align_self": null,
       "border": null,
       "bottom": null,
       "display": null,
       "flex": null,
       "flex_flow": null,
       "grid_area": null,
       "grid_auto_columns": null,
       "grid_auto_flow": null,
       "grid_auto_rows": null,
       "grid_column": null,
       "grid_gap": null,
       "grid_row": null,
       "grid_template_areas": null,
       "grid_template_columns": null,
       "grid_template_rows": null,
       "height": null,
       "justify_content": null,
       "justify_items": null,
       "left": null,
       "margin": null,
       "max_height": null,
       "max_width": null,
       "min_height": null,
       "min_width": null,
       "object_fit": null,
       "object_position": null,
       "order": null,
       "overflow": null,
       "overflow_x": null,
       "overflow_y": null,
       "padding": null,
       "right": null,
       "top": null,
       "visibility": null,
       "width": null
      }
     },
     "764820ed7d504f479c3d2ff14aa25149": {
      "model_module": "@jupyter-widgets/controls",
      "model_module_version": "1.5.0",
      "model_name": "ProgressStyleModel",
      "state": {
       "_model_module": "@jupyter-widgets/controls",
       "_model_module_version": "1.5.0",
       "_model_name": "ProgressStyleModel",
       "_view_count": null,
       "_view_module": "@jupyter-widgets/base",
       "_view_module_version": "1.2.0",
       "_view_name": "StyleView",
       "bar_color": null,
       "description_width": ""
      }
     },
     "76ceed414f674e0cada0fd6eb6ec705f": {
      "model_module": "@jupyter-widgets/controls",
      "model_module_version": "1.5.0",
      "model_name": "HTMLModel",
      "state": {
       "_dom_classes": [],
       "_model_module": "@jupyter-widgets/controls",
       "_model_module_version": "1.5.0",
       "_model_name": "HTMLModel",
       "_view_count": null,
       "_view_module": "@jupyter-widgets/controls",
       "_view_module_version": "1.5.0",
       "_view_name": "HTMLView",
       "description": "",
       "description_tooltip": null,
       "layout": "IPY_MODEL_2f25403fe02548db95c55bf3e84f1e01",
       "placeholder": "​",
       "style": "IPY_MODEL_4c46ecc408f7428299b210a7bc8ac217",
       "value": " 456k/456k [00:00&lt;00:00, 1.85MB/s]"
      }
     },
     "794e5c2425de4969a164f21d567e567e": {
      "model_module": "@jupyter-widgets/controls",
      "model_module_version": "1.5.0",
      "model_name": "HTMLModel",
      "state": {
       "_dom_classes": [],
       "_model_module": "@jupyter-widgets/controls",
       "_model_module_version": "1.5.0",
       "_model_name": "HTMLModel",
       "_view_count": null,
       "_view_module": "@jupyter-widgets/controls",
       "_view_module_version": "1.5.0",
       "_view_name": "HTMLView",
       "description": "",
       "description_tooltip": null,
       "layout": "IPY_MODEL_72e4d052ec134e7a913f06115a0785bb",
       "placeholder": "​",
       "style": "IPY_MODEL_3239338f51ca4138ab583b58c5ccc1b8",
       "value": "tokenizer.json: 100%"
      }
     },
     "7b23b56e43af4f7ba59325de3f80299b": {
      "model_module": "@jupyter-widgets/base",
      "model_module_version": "1.2.0",
      "model_name": "LayoutModel",
      "state": {
       "_model_module": "@jupyter-widgets/base",
       "_model_module_version": "1.2.0",
       "_model_name": "LayoutModel",
       "_view_count": null,
       "_view_module": "@jupyter-widgets/base",
       "_view_module_version": "1.2.0",
       "_view_name": "LayoutView",
       "align_content": null,
       "align_items": null,
       "align_self": null,
       "border": null,
       "bottom": null,
       "display": null,
       "flex": null,
       "flex_flow": null,
       "grid_area": null,
       "grid_auto_columns": null,
       "grid_auto_flow": null,
       "grid_auto_rows": null,
       "grid_column": null,
       "grid_gap": null,
       "grid_row": null,
       "grid_template_areas": null,
       "grid_template_columns": null,
       "grid_template_rows": null,
       "height": null,
       "justify_content": null,
       "justify_items": null,
       "left": null,
       "margin": null,
       "max_height": null,
       "max_width": null,
       "min_height": null,
       "min_width": null,
       "object_fit": null,
       "object_position": null,
       "order": null,
       "overflow": null,
       "overflow_x": null,
       "overflow_y": null,
       "padding": null,
       "right": null,
       "top": null,
       "visibility": null,
       "width": null
      }
     },
     "7d95c73df2c9466a90a9b2dc2ce08416": {
      "model_module": "@jupyter-widgets/base",
      "model_module_version": "1.2.0",
      "model_name": "LayoutModel",
      "state": {
       "_model_module": "@jupyter-widgets/base",
       "_model_module_version": "1.2.0",
       "_model_name": "LayoutModel",
       "_view_count": null,
       "_view_module": "@jupyter-widgets/base",
       "_view_module_version": "1.2.0",
       "_view_name": "LayoutView",
       "align_content": null,
       "align_items": null,
       "align_self": null,
       "border": null,
       "bottom": null,
       "display": null,
       "flex": null,
       "flex_flow": null,
       "grid_area": null,
       "grid_auto_columns": null,
       "grid_auto_flow": null,
       "grid_auto_rows": null,
       "grid_column": null,
       "grid_gap": null,
       "grid_row": null,
       "grid_template_areas": null,
       "grid_template_columns": null,
       "grid_template_rows": null,
       "height": null,
       "justify_content": null,
       "justify_items": null,
       "left": null,
       "margin": null,
       "max_height": null,
       "max_width": null,
       "min_height": null,
       "min_width": null,
       "object_fit": null,
       "object_position": null,
       "order": null,
       "overflow": null,
       "overflow_x": null,
       "overflow_y": null,
       "padding": null,
       "right": null,
       "top": null,
       "visibility": null,
       "width": null
      }
     },
     "83e1ec47403245a9a9eafeb1cebc1029": {
      "model_module": "@jupyter-widgets/controls",
      "model_module_version": "1.5.0",
      "model_name": "HBoxModel",
      "state": {
       "_dom_classes": [],
       "_model_module": "@jupyter-widgets/controls",
       "_model_module_version": "1.5.0",
       "_model_name": "HBoxModel",
       "_view_count": null,
       "_view_module": "@jupyter-widgets/controls",
       "_view_module_version": "1.5.0",
       "_view_name": "HBoxView",
       "box_style": "",
       "children": [
        "IPY_MODEL_388473c9ccaf4b6fb8bc292090915885",
        "IPY_MODEL_706038831ee943c89c2ffa50951a99d0",
        "IPY_MODEL_ff10cccbf833484f831900e3df0599ce"
       ],
       "layout": "IPY_MODEL_380fc06cf8f943c9b684f6722f27e904"
      }
     },
     "85fa0c19540746509c136463564d5622": {
      "model_module": "@jupyter-widgets/base",
      "model_module_version": "1.2.0",
      "model_name": "LayoutModel",
      "state": {
       "_model_module": "@jupyter-widgets/base",
       "_model_module_version": "1.2.0",
       "_model_name": "LayoutModel",
       "_view_count": null,
       "_view_module": "@jupyter-widgets/base",
       "_view_module_version": "1.2.0",
       "_view_name": "LayoutView",
       "align_content": null,
       "align_items": null,
       "align_self": null,
       "border": null,
       "bottom": null,
       "display": null,
       "flex": null,
       "flex_flow": null,
       "grid_area": null,
       "grid_auto_columns": null,
       "grid_auto_flow": null,
       "grid_auto_rows": null,
       "grid_column": null,
       "grid_gap": null,
       "grid_row": null,
       "grid_template_areas": null,
       "grid_template_columns": null,
       "grid_template_rows": null,
       "height": null,
       "justify_content": null,
       "justify_items": null,
       "left": null,
       "margin": null,
       "max_height": null,
       "max_width": null,
       "min_height": null,
       "min_width": null,
       "object_fit": null,
       "object_position": null,
       "order": null,
       "overflow": null,
       "overflow_x": null,
       "overflow_y": null,
       "padding": null,
       "right": null,
       "top": null,
       "visibility": null,
       "width": null
      }
     },
     "863a02a520284e0fa34b6e6532a580dc": {
      "model_module": "@jupyter-widgets/base",
      "model_module_version": "1.2.0",
      "model_name": "LayoutModel",
      "state": {
       "_model_module": "@jupyter-widgets/base",
       "_model_module_version": "1.2.0",
       "_model_name": "LayoutModel",
       "_view_count": null,
       "_view_module": "@jupyter-widgets/base",
       "_view_module_version": "1.2.0",
       "_view_name": "LayoutView",
       "align_content": null,
       "align_items": null,
       "align_self": null,
       "border": null,
       "bottom": null,
       "display": null,
       "flex": null,
       "flex_flow": null,
       "grid_area": null,
       "grid_auto_columns": null,
       "grid_auto_flow": null,
       "grid_auto_rows": null,
       "grid_column": null,
       "grid_gap": null,
       "grid_row": null,
       "grid_template_areas": null,
       "grid_template_columns": null,
       "grid_template_rows": null,
       "height": null,
       "justify_content": null,
       "justify_items": null,
       "left": null,
       "margin": null,
       "max_height": null,
       "max_width": null,
       "min_height": null,
       "min_width": null,
       "object_fit": null,
       "object_position": null,
       "order": null,
       "overflow": null,
       "overflow_x": null,
       "overflow_y": null,
       "padding": null,
       "right": null,
       "top": null,
       "visibility": null,
       "width": null
      }
     },
     "892453b45ec0459f85241e22be8aa807": {
      "model_module": "@jupyter-widgets/controls",
      "model_module_version": "1.5.0",
      "model_name": "DescriptionStyleModel",
      "state": {
       "_model_module": "@jupyter-widgets/controls",
       "_model_module_version": "1.5.0",
       "_model_name": "DescriptionStyleModel",
       "_view_count": null,
       "_view_module": "@jupyter-widgets/base",
       "_view_module_version": "1.2.0",
       "_view_name": "StyleView",
       "description_width": ""
      }
     },
     "8f9b6a560f9d457f9eedb6fe27448d64": {
      "model_module": "@jupyter-widgets/base",
      "model_module_version": "1.2.0",
      "model_name": "LayoutModel",
      "state": {
       "_model_module": "@jupyter-widgets/base",
       "_model_module_version": "1.2.0",
       "_model_name": "LayoutModel",
       "_view_count": null,
       "_view_module": "@jupyter-widgets/base",
       "_view_module_version": "1.2.0",
       "_view_name": "LayoutView",
       "align_content": null,
       "align_items": null,
       "align_self": null,
       "border": null,
       "bottom": null,
       "display": null,
       "flex": null,
       "flex_flow": null,
       "grid_area": null,
       "grid_auto_columns": null,
       "grid_auto_flow": null,
       "grid_auto_rows": null,
       "grid_column": null,
       "grid_gap": null,
       "grid_row": null,
       "grid_template_areas": null,
       "grid_template_columns": null,
       "grid_template_rows": null,
       "height": null,
       "justify_content": null,
       "justify_items": null,
       "left": null,
       "margin": null,
       "max_height": null,
       "max_width": null,
       "min_height": null,
       "min_width": null,
       "object_fit": null,
       "object_position": null,
       "order": null,
       "overflow": null,
       "overflow_x": null,
       "overflow_y": null,
       "padding": null,
       "right": null,
       "top": null,
       "visibility": null,
       "width": null
      }
     },
     "918f21e459544ae3833e8fe9c0099d60": {
      "model_module": "@jupyter-widgets/controls",
      "model_module_version": "1.5.0",
      "model_name": "DescriptionStyleModel",
      "state": {
       "_model_module": "@jupyter-widgets/controls",
       "_model_module_version": "1.5.0",
       "_model_name": "DescriptionStyleModel",
       "_view_count": null,
       "_view_module": "@jupyter-widgets/base",
       "_view_module_version": "1.2.0",
       "_view_name": "StyleView",
       "description_width": ""
      }
     },
     "9ef6a94f607e4b44bba9e6e12bb2f5d3": {
      "model_module": "@jupyter-widgets/controls",
      "model_module_version": "1.5.0",
      "model_name": "ProgressStyleModel",
      "state": {
       "_model_module": "@jupyter-widgets/controls",
       "_model_module_version": "1.5.0",
       "_model_name": "ProgressStyleModel",
       "_view_count": null,
       "_view_module": "@jupyter-widgets/base",
       "_view_module_version": "1.2.0",
       "_view_name": "StyleView",
       "bar_color": null,
       "description_width": ""
      }
     },
     "a4777ffc65104560a144dd0fc11f247b": {
      "model_module": "@jupyter-widgets/controls",
      "model_module_version": "1.5.0",
      "model_name": "FloatProgressModel",
      "state": {
       "_dom_classes": [],
       "_model_module": "@jupyter-widgets/controls",
       "_model_module_version": "1.5.0",
       "_model_name": "FloatProgressModel",
       "_view_count": null,
       "_view_module": "@jupyter-widgets/controls",
       "_view_module_version": "1.5.0",
       "_view_name": "ProgressView",
       "bar_style": "success",
       "description": "",
       "description_tooltip": null,
       "layout": "IPY_MODEL_fef80c4abc0344f0ba3d12b8ad394e3f",
       "max": 1519984962.0,
       "min": 0.0,
       "orientation": "horizontal",
       "style": "IPY_MODEL_764820ed7d504f479c3d2ff14aa25149",
       "value": 1519984962.0
      }
     },
     "a90af21f8b1347d588122e605f5e7d5d": {
      "model_module": "@jupyter-widgets/controls",
      "model_module_version": "1.5.0",
      "model_name": "HTMLModel",
      "state": {
       "_dom_classes": [],
       "_model_module": "@jupyter-widgets/controls",
       "_model_module_version": "1.5.0",
       "_model_name": "HTMLModel",
       "_view_count": null,
       "_view_module": "@jupyter-widgets/controls",
       "_view_module_version": "1.5.0",
       "_view_name": "HTMLView",
       "description": "",
       "description_tooltip": null,
       "layout": "IPY_MODEL_a9985051e5354a34a8e291b32898a1e2",
       "placeholder": "​",
       "style": "IPY_MODEL_dcc0c75cd81b40fb825b75066264fd80",
       "value": " 1.04M/1.04M [00:00&lt;00:00, 3.19MB/s]"
      }
     },
     "a9985051e5354a34a8e291b32898a1e2": {
      "model_module": "@jupyter-widgets/base",
      "model_module_version": "1.2.0",
      "model_name": "LayoutModel",
      "state": {
       "_model_module": "@jupyter-widgets/base",
       "_model_module_version": "1.2.0",
       "_model_name": "LayoutModel",
       "_view_count": null,
       "_view_module": "@jupyter-widgets/base",
       "_view_module_version": "1.2.0",
       "_view_name": "LayoutView",
       "align_content": null,
       "align_items": null,
       "align_self": null,
       "border": null,
       "bottom": null,
       "display": null,
       "flex": null,
       "flex_flow": null,
       "grid_area": null,
       "grid_auto_columns": null,
       "grid_auto_flow": null,
       "grid_auto_rows": null,
       "grid_column": null,
       "grid_gap": null,
       "grid_row": null,
       "grid_template_areas": null,
       "grid_template_columns": null,
       "grid_template_rows": null,
       "height": null,
       "justify_content": null,
       "justify_items": null,
       "left": null,
       "margin": null,
       "max_height": null,
       "max_width": null,
       "min_height": null,
       "min_width": null,
       "object_fit": null,
       "object_position": null,
       "order": null,
       "overflow": null,
       "overflow_x": null,
       "overflow_y": null,
       "padding": null,
       "right": null,
       "top": null,
       "visibility": null,
       "width": null
      }
     },
     "aa1d634c2c974d8ea22dbd066aac2eb9": {
      "model_module": "@jupyter-widgets/controls",
      "model_module_version": "1.5.0",
      "model_name": "FloatProgressModel",
      "state": {
       "_dom_classes": [],
       "_model_module": "@jupyter-widgets/controls",
       "_model_module_version": "1.5.0",
       "_model_name": "FloatProgressModel",
       "_view_count": null,
       "_view_module": "@jupyter-widgets/controls",
       "_view_module_version": "1.5.0",
       "_view_name": "ProgressView",
       "bar_style": "success",
       "description": "",
       "description_tooltip": null,
       "layout": "IPY_MODEL_7518b0b76f5240f695036132bba606a2",
       "max": 1355256.0,
       "min": 0.0,
       "orientation": "horizontal",
       "style": "IPY_MODEL_30314a5dff914482b2b1a695f4de61a2",
       "value": 1355256.0
      }
     },
     "ad942ccacd1e4c57ac8996e344c1ff39": {
      "model_module": "@jupyter-widgets/controls",
      "model_module_version": "1.5.0",
      "model_name": "DescriptionStyleModel",
      "state": {
       "_model_module": "@jupyter-widgets/controls",
       "_model_module_version": "1.5.0",
       "_model_name": "DescriptionStyleModel",
       "_view_count": null,
       "_view_module": "@jupyter-widgets/base",
       "_view_module_version": "1.2.0",
       "_view_name": "StyleView",
       "description_width": ""
      }
     },
     "b34902de34b1428a8962d6cab3ec46aa": {
      "model_module": "@jupyter-widgets/controls",
      "model_module_version": "1.5.0",
      "model_name": "HTMLModel",
      "state": {
       "_dom_classes": [],
       "_model_module": "@jupyter-widgets/controls",
       "_model_module_version": "1.5.0",
       "_model_name": "HTMLModel",
       "_view_count": null,
       "_view_module": "@jupyter-widgets/controls",
       "_view_module_version": "1.5.0",
       "_view_name": "HTMLView",
       "description": "",
       "description_tooltip": null,
       "layout": "IPY_MODEL_bc82838437ad427c952d3821a535ada4",
       "placeholder": "​",
       "style": "IPY_MODEL_2349d2ab94144abab2925ab2c05d2bd5",
       "value": "vocab.json: 100%"
      }
     },
     "b8868a16dd2f472da886f36e135adb19": {
      "model_module": "@jupyter-widgets/controls",
      "model_module_version": "1.5.0",
      "model_name": "FloatProgressModel",
      "state": {
       "_dom_classes": [],
       "_model_module": "@jupyter-widgets/controls",
       "_model_module_version": "1.5.0",
       "_model_name": "FloatProgressModel",
       "_view_count": null,
       "_view_module": "@jupyter-widgets/controls",
       "_view_module_version": "1.5.0",
       "_view_name": "ProgressView",
       "bar_style": "success",
       "description": "",
       "description_tooltip": null,
       "layout": "IPY_MODEL_085df605147246c8bdc058e5ed7c39a8",
       "max": 456318.0,
       "min": 0.0,
       "orientation": "horizontal",
       "style": "IPY_MODEL_9ef6a94f607e4b44bba9e6e12bb2f5d3",
       "value": 456318.0
      }
     },
     "bc82838437ad427c952d3821a535ada4": {
      "model_module": "@jupyter-widgets/base",
      "model_module_version": "1.2.0",
      "model_name": "LayoutModel",
      "state": {
       "_model_module": "@jupyter-widgets/base",
       "_model_module_version": "1.2.0",
       "_model_name": "LayoutModel",
       "_view_count": null,
       "_view_module": "@jupyter-widgets/base",
       "_view_module_version": "1.2.0",
       "_view_name": "LayoutView",
       "align_content": null,
       "align_items": null,
       "align_self": null,
       "border": null,
       "bottom": null,
       "display": null,
       "flex": null,
       "flex_flow": null,
       "grid_area": null,
       "grid_auto_columns": null,
       "grid_auto_flow": null,
       "grid_auto_rows": null,
       "grid_column": null,
       "grid_gap": null,
       "grid_row": null,
       "grid_template_areas": null,
       "grid_template_columns": null,
       "grid_template_rows": null,
       "height": null,
       "justify_content": null,
       "justify_items": null,
       "left": null,
       "margin": null,
       "max_height": null,
       "max_width": null,
       "min_height": null,
       "min_width": null,
       "object_fit": null,
       "object_position": null,
       "order": null,
       "overflow": null,
       "overflow_x": null,
       "overflow_y": null,
       "padding": null,
       "right": null,
       "top": null,
       "visibility": null,
       "width": null
      }
     },
     "c10f0d009ef340d4a16b773dfcf4ca42": {
      "model_module": "@jupyter-widgets/controls",
      "model_module_version": "1.5.0",
      "model_name": "HBoxModel",
      "state": {
       "_dom_classes": [],
       "_model_module": "@jupyter-widgets/controls",
       "_model_module_version": "1.5.0",
       "_model_name": "HBoxModel",
       "_view_count": null,
       "_view_module": "@jupyter-widgets/controls",
       "_view_module_version": "1.5.0",
       "_view_name": "HBoxView",
       "box_style": "",
       "children": [
        "IPY_MODEL_5b3993971d3a4fcb915a50bf5ddbbc30",
        "IPY_MODEL_a4777ffc65104560a144dd0fc11f247b",
        "IPY_MODEL_570995af26014bffafa4f5dce5226978"
       ],
       "layout": "IPY_MODEL_200b8d69e8f0418d9488c7f52f7eebe4"
      }
     },
     "c138983c50e24f0aa7925e9469b155f5": {
      "model_module": "@jupyter-widgets/controls",
      "model_module_version": "1.5.0",
      "model_name": "HTMLModel",
      "state": {
       "_dom_classes": [],
       "_model_module": "@jupyter-widgets/controls",
       "_model_module_version": "1.5.0",
       "_model_name": "HTMLModel",
       "_view_count": null,
       "_view_module": "@jupyter-widgets/controls",
       "_view_module_version": "1.5.0",
       "_view_name": "HTMLView",
       "description": "",
       "description_tooltip": null,
       "layout": "IPY_MODEL_51c5188a2c3e4556a8dfadd5bd19bcb4",
       "placeholder": "​",
       "style": "IPY_MODEL_2f3422dac8734025981e079b4391c29c",
       "value": "merges.txt: 100%"
      }
     },
     "ce84bdbc844347ca9de628aa4649825f": {
      "model_module": "@jupyter-widgets/base",
      "model_module_version": "1.2.0",
      "model_name": "LayoutModel",
      "state": {
       "_model_module": "@jupyter-widgets/base",
       "_model_module_version": "1.2.0",
       "_model_name": "LayoutModel",
       "_view_count": null,
       "_view_module": "@jupyter-widgets/base",
       "_view_module_version": "1.2.0",
       "_view_name": "LayoutView",
       "align_content": null,
       "align_items": null,
       "align_self": null,
       "border": null,
       "bottom": null,
       "display": null,
       "flex": null,
       "flex_flow": null,
       "grid_area": null,
       "grid_auto_columns": null,
       "grid_auto_flow": null,
       "grid_auto_rows": null,
       "grid_column": null,
       "grid_gap": null,
       "grid_row": null,
       "grid_template_areas": null,
       "grid_template_columns": null,
       "grid_template_rows": null,
       "height": null,
       "justify_content": null,
       "justify_items": null,
       "left": null,
       "margin": null,
       "max_height": null,
       "max_width": null,
       "min_height": null,
       "min_width": null,
       "object_fit": null,
       "object_position": null,
       "order": null,
       "overflow": null,
       "overflow_x": null,
       "overflow_y": null,
       "padding": null,
       "right": null,
       "top": null,
       "visibility": null,
       "width": null
      }
     },
     "d06715e019c74bc6b14ef00cce3c2a01": {
      "model_module": "@jupyter-widgets/controls",
      "model_module_version": "1.5.0",
      "model_name": "HTMLModel",
      "state": {
       "_dom_classes": [],
       "_model_module": "@jupyter-widgets/controls",
       "_model_module_version": "1.5.0",
       "_model_name": "HTMLModel",
       "_view_count": null,
       "_view_module": "@jupyter-widgets/controls",
       "_view_module_version": "1.5.0",
       "_view_name": "HTMLView",
       "description": "",
       "description_tooltip": null,
       "layout": "IPY_MODEL_7d95c73df2c9466a90a9b2dc2ce08416",
       "placeholder": "​",
       "style": "IPY_MODEL_ad942ccacd1e4c57ac8996e344c1ff39",
       "value": " 718/718 [00:00&lt;00:00, 55.9kB/s]"
      }
     },
     "dcc0c75cd81b40fb825b75066264fd80": {
      "model_module": "@jupyter-widgets/controls",
      "model_module_version": "1.5.0",
      "model_name": "DescriptionStyleModel",
      "state": {
       "_model_module": "@jupyter-widgets/controls",
       "_model_module_version": "1.5.0",
       "_model_name": "DescriptionStyleModel",
       "_view_count": null,
       "_view_module": "@jupyter-widgets/base",
       "_view_module_version": "1.2.0",
       "_view_name": "StyleView",
       "description_width": ""
      }
     },
     "f0a839ffc00f49e38eeb8f6a1a36d849": {
      "model_module": "@jupyter-widgets/base",
      "model_module_version": "1.2.0",
      "model_name": "LayoutModel",
      "state": {
       "_model_module": "@jupyter-widgets/base",
       "_model_module_version": "1.2.0",
       "_model_name": "LayoutModel",
       "_view_count": null,
       "_view_module": "@jupyter-widgets/base",
       "_view_module_version": "1.2.0",
       "_view_name": "LayoutView",
       "align_content": null,
       "align_items": null,
       "align_self": null,
       "border": null,
       "bottom": null,
       "display": null,
       "flex": null,
       "flex_flow": null,
       "grid_area": null,
       "grid_auto_columns": null,
       "grid_auto_flow": null,
       "grid_auto_rows": null,
       "grid_column": null,
       "grid_gap": null,
       "grid_row": null,
       "grid_template_areas": null,
       "grid_template_columns": null,
       "grid_template_rows": null,
       "height": null,
       "justify_content": null,
       "justify_items": null,
       "left": null,
       "margin": null,
       "max_height": null,
       "max_width": null,
       "min_height": null,
       "min_width": null,
       "object_fit": null,
       "object_position": null,
       "order": null,
       "overflow": null,
       "overflow_x": null,
       "overflow_y": null,
       "padding": null,
       "right": null,
       "top": null,
       "visibility": null,
       "width": null
      }
     },
     "f33c62941ba74ff4aa36b9c634ecd8b3": {
      "model_module": "@jupyter-widgets/controls",
      "model_module_version": "1.5.0",
      "model_name": "ProgressStyleModel",
      "state": {
       "_model_module": "@jupyter-widgets/controls",
       "_model_module_version": "1.5.0",
       "_model_name": "ProgressStyleModel",
       "_view_count": null,
       "_view_module": "@jupyter-widgets/base",
       "_view_module_version": "1.2.0",
       "_view_name": "StyleView",
       "bar_color": null,
       "description_width": ""
      }
     },
     "f831b01293a949e698ffffdc91dd666f": {
      "model_module": "@jupyter-widgets/base",
      "model_module_version": "1.2.0",
      "model_name": "LayoutModel",
      "state": {
       "_model_module": "@jupyter-widgets/base",
       "_model_module_version": "1.2.0",
       "_model_name": "LayoutModel",
       "_view_count": null,
       "_view_module": "@jupyter-widgets/base",
       "_view_module_version": "1.2.0",
       "_view_name": "LayoutView",
       "align_content": null,
       "align_items": null,
       "align_self": null,
       "border": null,
       "bottom": null,
       "display": null,
       "flex": null,
       "flex_flow": null,
       "grid_area": null,
       "grid_auto_columns": null,
       "grid_auto_flow": null,
       "grid_auto_rows": null,
       "grid_column": null,
       "grid_gap": null,
       "grid_row": null,
       "grid_template_areas": null,
       "grid_template_columns": null,
       "grid_template_rows": null,
       "height": null,
       "justify_content": null,
       "justify_items": null,
       "left": null,
       "margin": null,
       "max_height": null,
       "max_width": null,
       "min_height": null,
       "min_width": null,
       "object_fit": null,
       "object_position": null,
       "order": null,
       "overflow": null,
       "overflow_x": null,
       "overflow_y": null,
       "padding": null,
       "right": null,
       "top": null,
       "visibility": null,
       "width": null
      }
     },
     "fc891f87d1ad481abfb2ccbf129d344b": {
      "model_module": "@jupyter-widgets/controls",
      "model_module_version": "1.5.0",
      "model_name": "HBoxModel",
      "state": {
       "_dom_classes": [],
       "_model_module": "@jupyter-widgets/controls",
       "_model_module_version": "1.5.0",
       "_model_name": "HBoxModel",
       "_view_count": null,
       "_view_module": "@jupyter-widgets/controls",
       "_view_module_version": "1.5.0",
       "_view_name": "HBoxView",
       "box_style": "",
       "children": [
        "IPY_MODEL_b34902de34b1428a8962d6cab3ec46aa",
        "IPY_MODEL_54c9095be1ea4746be3aeb46e33212bf",
        "IPY_MODEL_a90af21f8b1347d588122e605f5e7d5d"
       ],
       "layout": "IPY_MODEL_7b23b56e43af4f7ba59325de3f80299b"
      }
     },
     "fef80c4abc0344f0ba3d12b8ad394e3f": {
      "model_module": "@jupyter-widgets/base",
      "model_module_version": "1.2.0",
      "model_name": "LayoutModel",
      "state": {
       "_model_module": "@jupyter-widgets/base",
       "_model_module_version": "1.2.0",
       "_model_name": "LayoutModel",
       "_view_count": null,
       "_view_module": "@jupyter-widgets/base",
       "_view_module_version": "1.2.0",
       "_view_name": "LayoutView",
       "align_content": null,
       "align_items": null,
       "align_self": null,
       "border": null,
       "bottom": null,
       "display": null,
       "flex": null,
       "flex_flow": null,
       "grid_area": null,
       "grid_auto_columns": null,
       "grid_auto_flow": null,
       "grid_auto_rows": null,
       "grid_column": null,
       "grid_gap": null,
       "grid_row": null,
       "grid_template_areas": null,
       "grid_template_columns": null,
       "grid_template_rows": null,
       "height": null,
       "justify_content": null,
       "justify_items": null,
       "left": null,
       "margin": null,
       "max_height": null,
       "max_width": null,
       "min_height": null,
       "min_width": null,
       "object_fit": null,
       "object_position": null,
       "order": null,
       "overflow": null,
       "overflow_x": null,
       "overflow_y": null,
       "padding": null,
       "right": null,
       "top": null,
       "visibility": null,
       "width": null
      }
     },
     "ff10cccbf833484f831900e3df0599ce": {
      "model_module": "@jupyter-widgets/controls",
      "model_module_version": "1.5.0",
      "model_name": "HTMLModel",
      "state": {
       "_dom_classes": [],
       "_model_module": "@jupyter-widgets/controls",
       "_model_module_version": "1.5.0",
       "_model_name": "HTMLModel",
       "_view_count": null,
       "_view_module": "@jupyter-widgets/controls",
       "_view_module_version": "1.5.0",
       "_view_name": "HTMLView",
       "description": "",
       "description_tooltip": null,
       "layout": "IPY_MODEL_29ae788fea8d43d288fad51fb01546bd",
       "placeholder": "​",
       "style": "IPY_MODEL_918f21e459544ae3833e8fe9c0099d60",
       "value": " 124/124 [00:00&lt;00:00, 7.15kB/s]"
      }
     }
    },
    "version_major": 2,
    "version_minor": 0
   }
  }
 },
 "nbformat": 4,
 "nbformat_minor": 5
}
